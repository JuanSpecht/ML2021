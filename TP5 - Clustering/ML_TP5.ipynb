{
  "nbformat": 4,
  "nbformat_minor": 0,
  "metadata": {
    "colab": {
      "name": "ML_TP5.ipynb",
      "provenance": [],
      "authorship_tag": "ABX9TyMb9c5UcXUVcp8rJrkyNGju",
      "include_colab_link": true
    },
    "kernelspec": {
      "name": "python3",
      "display_name": "Python 3"
    },
    "language_info": {
      "name": "python"
    },
    "widgets": {
      "application/vnd.jupyter.widget-state+json": {
        "2098e7fe4f834814902f5220ea867f25": {
          "model_module": "@jupyter-widgets/controls",
          "model_name": "FloatProgressModel",
          "model_module_version": "1.5.0",
          "state": {
            "_view_name": "ProgressView",
            "style": "IPY_MODEL_7a3c9140fc7b4ec4a01e6c056ce3dd1f",
            "_dom_classes": [],
            "description": "100 %",
            "_model_name": "FloatProgressModel",
            "bar_style": "info",
            "max": 1,
            "_view_module": "@jupyter-widgets/controls",
            "_model_module_version": "1.5.0",
            "value": 1,
            "_view_count": null,
            "_view_module_version": "1.5.0",
            "orientation": "horizontal",
            "min": 0,
            "description_tooltip": null,
            "_model_module": "@jupyter-widgets/controls",
            "layout": "IPY_MODEL_23f0954272644f5cb35307d3e882f8be"
          }
        },
        "7a3c9140fc7b4ec4a01e6c056ce3dd1f": {
          "model_module": "@jupyter-widgets/controls",
          "model_name": "ProgressStyleModel",
          "model_module_version": "1.5.0",
          "state": {
            "_view_name": "StyleView",
            "_model_name": "ProgressStyleModel",
            "description_width": "",
            "_view_module": "@jupyter-widgets/base",
            "_model_module_version": "1.5.0",
            "_view_count": null,
            "_view_module_version": "1.2.0",
            "bar_color": "green",
            "_model_module": "@jupyter-widgets/controls"
          }
        },
        "23f0954272644f5cb35307d3e882f8be": {
          "model_module": "@jupyter-widgets/base",
          "model_name": "LayoutModel",
          "model_module_version": "1.2.0",
          "state": {
            "_view_name": "LayoutView",
            "grid_template_rows": null,
            "right": null,
            "justify_content": null,
            "_view_module": "@jupyter-widgets/base",
            "overflow": null,
            "_model_module_version": "1.2.0",
            "_view_count": null,
            "flex_flow": null,
            "width": "max_content",
            "min_width": null,
            "border": null,
            "align_items": null,
            "bottom": null,
            "_model_module": "@jupyter-widgets/base",
            "top": null,
            "grid_column": null,
            "overflow_y": null,
            "overflow_x": null,
            "grid_auto_flow": null,
            "grid_area": null,
            "grid_template_columns": null,
            "flex": null,
            "_model_name": "LayoutModel",
            "justify_items": null,
            "grid_row": null,
            "max_height": null,
            "align_content": null,
            "visibility": "hidden",
            "align_self": null,
            "height": null,
            "min_height": null,
            "padding": null,
            "grid_auto_rows": null,
            "grid_gap": null,
            "max_width": null,
            "order": null,
            "_view_module_version": "1.2.0",
            "grid_template_areas": null,
            "object_position": null,
            "object_fit": null,
            "grid_auto_columns": null,
            "margin": null,
            "display": null,
            "left": null
          }
        }
      }
    }
  },
  "cells": [
    {
      "cell_type": "markdown",
      "metadata": {
        "id": "view-in-github",
        "colab_type": "text"
      },
      "source": [
        "<a href=\"https://colab.research.google.com/github/JuanSpecht/ML2021/blob/main/TP5/ML_TP5.ipynb\" target=\"_parent\"><img src=\"https://colab.research.google.com/assets/colab-badge.svg\" alt=\"Open In Colab\"/></a>"
      ]
    },
    {
      "cell_type": "markdown",
      "metadata": {
        "id": "16KahGKxmlRt"
      },
      "source": [
        "# Aprendizaje de Máquina - TP5: Sommelier de cerveza"
      ]
    },
    {
      "cell_type": "markdown",
      "metadata": {
        "id": "pk0sFa4m6SZP"
      },
      "source": [
        "## Cargo el dataset"
      ]
    },
    {
      "cell_type": "code",
      "metadata": {
        "colab": {
          "base_uri": "https://localhost:8080/",
          "height": 330
        },
        "id": "IWdFdSrbmhFL",
        "outputId": "3132fdf9-3751-4b11-c0fa-d45a8204f418"
      },
      "source": [
        "import pandas as pd\n",
        "\n",
        "reviews1_raw = pd.read_csv(\"https://raw.githubusercontent.com/emmanueliarussi/DataScienceCapstone/master/3_MidtermProjects/ProjectBEE/data/beer_reviews_1.csv\")\n",
        "reviews2_raw = pd.read_csv(\"https://raw.githubusercontent.com/emmanueliarussi/DataScienceCapstone/master/3_MidtermProjects/ProjectBEE/data/beer_reviews_2.csv\")\n",
        "\n",
        "reviews1 = reviews1_raw.copy()\n",
        "reviews2 = reviews2_raw.copy()\n",
        "\n",
        "reviews = pd.concat([reviews1, reviews2])\n",
        "reviews.reset_index(inplace=True, drop=True)\n",
        "\n",
        "reviews.head()"
      ],
      "execution_count": 1,
      "outputs": [
        {
          "output_type": "execute_result",
          "data": {
            "text/html": [
              "<div>\n",
              "<style scoped>\n",
              "    .dataframe tbody tr th:only-of-type {\n",
              "        vertical-align: middle;\n",
              "    }\n",
              "\n",
              "    .dataframe tbody tr th {\n",
              "        vertical-align: top;\n",
              "    }\n",
              "\n",
              "    .dataframe thead th {\n",
              "        text-align: right;\n",
              "    }\n",
              "</style>\n",
              "<table border=\"1\" class=\"dataframe\">\n",
              "  <thead>\n",
              "    <tr style=\"text-align: right;\">\n",
              "      <th></th>\n",
              "      <th>brewery_id</th>\n",
              "      <th>brewery_name</th>\n",
              "      <th>review_time</th>\n",
              "      <th>review_overall</th>\n",
              "      <th>review_aroma</th>\n",
              "      <th>review_appearance</th>\n",
              "      <th>review_profilename</th>\n",
              "      <th>beer_style</th>\n",
              "      <th>review_palate</th>\n",
              "      <th>review_taste</th>\n",
              "      <th>beer_name</th>\n",
              "      <th>beer_abv</th>\n",
              "      <th>beer_beerid</th>\n",
              "    </tr>\n",
              "  </thead>\n",
              "  <tbody>\n",
              "    <tr>\n",
              "      <th>0</th>\n",
              "      <td>10325</td>\n",
              "      <td>Vecchio Birraio</td>\n",
              "      <td>1234817823</td>\n",
              "      <td>1.5</td>\n",
              "      <td>2.0</td>\n",
              "      <td>2.5</td>\n",
              "      <td>stcules</td>\n",
              "      <td>Hefeweizen</td>\n",
              "      <td>1.5</td>\n",
              "      <td>1.5</td>\n",
              "      <td>Sausa Weizen</td>\n",
              "      <td>5.0</td>\n",
              "      <td>47986</td>\n",
              "    </tr>\n",
              "    <tr>\n",
              "      <th>1</th>\n",
              "      <td>10325</td>\n",
              "      <td>Vecchio Birraio</td>\n",
              "      <td>1235915097</td>\n",
              "      <td>3.0</td>\n",
              "      <td>2.5</td>\n",
              "      <td>3.0</td>\n",
              "      <td>stcules</td>\n",
              "      <td>English Strong Ale</td>\n",
              "      <td>3.0</td>\n",
              "      <td>3.0</td>\n",
              "      <td>Red Moon</td>\n",
              "      <td>6.2</td>\n",
              "      <td>48213</td>\n",
              "    </tr>\n",
              "    <tr>\n",
              "      <th>2</th>\n",
              "      <td>10325</td>\n",
              "      <td>Vecchio Birraio</td>\n",
              "      <td>1235916604</td>\n",
              "      <td>3.0</td>\n",
              "      <td>2.5</td>\n",
              "      <td>3.0</td>\n",
              "      <td>stcules</td>\n",
              "      <td>Foreign / Export Stout</td>\n",
              "      <td>3.0</td>\n",
              "      <td>3.0</td>\n",
              "      <td>Black Horse Black Beer</td>\n",
              "      <td>6.5</td>\n",
              "      <td>48215</td>\n",
              "    </tr>\n",
              "    <tr>\n",
              "      <th>3</th>\n",
              "      <td>10325</td>\n",
              "      <td>Vecchio Birraio</td>\n",
              "      <td>1234725145</td>\n",
              "      <td>3.0</td>\n",
              "      <td>3.0</td>\n",
              "      <td>3.5</td>\n",
              "      <td>stcules</td>\n",
              "      <td>German Pilsener</td>\n",
              "      <td>2.5</td>\n",
              "      <td>3.0</td>\n",
              "      <td>Sausa Pils</td>\n",
              "      <td>5.0</td>\n",
              "      <td>47969</td>\n",
              "    </tr>\n",
              "    <tr>\n",
              "      <th>4</th>\n",
              "      <td>1075</td>\n",
              "      <td>Caldera Brewing Company</td>\n",
              "      <td>1293735206</td>\n",
              "      <td>4.0</td>\n",
              "      <td>4.5</td>\n",
              "      <td>4.0</td>\n",
              "      <td>johnmichaelsen</td>\n",
              "      <td>American Double / Imperial IPA</td>\n",
              "      <td>4.0</td>\n",
              "      <td>4.5</td>\n",
              "      <td>Cauldron DIPA</td>\n",
              "      <td>7.7</td>\n",
              "      <td>64883</td>\n",
              "    </tr>\n",
              "  </tbody>\n",
              "</table>\n",
              "</div>"
            ],
            "text/plain": [
              "   brewery_id             brewery_name  ...  beer_abv  beer_beerid\n",
              "0       10325          Vecchio Birraio  ...       5.0        47986\n",
              "1       10325          Vecchio Birraio  ...       6.2        48213\n",
              "2       10325          Vecchio Birraio  ...       6.5        48215\n",
              "3       10325          Vecchio Birraio  ...       5.0        47969\n",
              "4        1075  Caldera Brewing Company  ...       7.7        64883\n",
              "\n",
              "[5 rows x 13 columns]"
            ]
          },
          "metadata": {},
          "execution_count": 1
        }
      ]
    },
    {
      "cell_type": "markdown",
      "metadata": {
        "id": "Kuy647Xq6eeC"
      },
      "source": [
        "## Análisis exploratorio y limpieza del dataset"
      ]
    },
    {
      "cell_type": "code",
      "metadata": {
        "id": "wIjbebkJPgZl"
      },
      "source": [
        "'''\n",
        "Cambio el nombre de 'beer_beerid' por legibilidad y descarto los atributos \n",
        "'review_profilename' (que a priori no parece informativo) y 'review_time' ya que \n",
        "no voy a realizar un análisis temporal.\n",
        "''' \n",
        "\n",
        "reviews.rename(columns={'beer_beerid': 'beer_id'}, inplace=True)\n",
        "reviews = reviews.drop(['review_profilename', 'review_time'], 1)"
      ],
      "execution_count": 2,
      "outputs": []
    },
    {
      "cell_type": "markdown",
      "metadata": {
        "id": "SevTJALb_nIe"
      },
      "source": [
        "### Chequeo si hay nulos"
      ]
    },
    {
      "cell_type": "code",
      "metadata": {
        "colab": {
          "base_uri": "https://localhost:8080/"
        },
        "id": "jeOrRvk-Ifm-",
        "outputId": "487b298b-4481-401a-b7fc-5df1fe44b07d"
      },
      "source": [
        "print(reviews.isnull().sum())\n",
        "nans = pd.isnull(reviews).sum().sum()\n",
        "print('\\nHay un %.0f%% de valores nulos en el dataset.' % (100*nans/reviews.shape[0]))"
      ],
      "execution_count": 3,
      "outputs": [
        {
          "output_type": "stream",
          "name": "stdout",
          "text": [
            "brewery_id               0\n",
            "brewery_name            15\n",
            "review_overall           0\n",
            "review_aroma             0\n",
            "review_appearance        0\n",
            "beer_style               0\n",
            "review_palate            0\n",
            "review_taste             0\n",
            "beer_name                0\n",
            "beer_abv             67785\n",
            "beer_id                  0\n",
            "dtype: int64\n",
            "\n",
            "Hay un 4% de valores nulos en el dataset.\n"
          ]
        }
      ]
    },
    {
      "cell_type": "markdown",
      "metadata": {
        "id": "HI8XSOYv9juy"
      },
      "source": [
        "* Hay 67785 reseñas donde está ausente el valor del abv (graduación alcohólica) y algunas pocas donde falta el nombre de la cervecería. En comparación con el tamaño del dataset este número es muy pequeño (4%) así que descarto dichos datos."
      ]
    },
    {
      "cell_type": "code",
      "metadata": {
        "id": "7uywi1Zb-xiZ"
      },
      "source": [
        "reviews = reviews.dropna()"
      ],
      "execution_count": 4,
      "outputs": []
    },
    {
      "cell_type": "markdown",
      "metadata": {
        "id": "_A-AZuAAecUu"
      },
      "source": [
        "### A continuación resuelvo una discrepancia entre la cantidad de IDs de cervezas únicos y la cantidad de nombres de cervezas"
      ]
    },
    {
      "cell_type": "code",
      "metadata": {
        "colab": {
          "base_uri": "https://localhost:8080/"
        },
        "id": "MyGs9HyjE5as",
        "outputId": "d0261090-c76d-43e1-f376-041973cdca46"
      },
      "source": [
        "reviews['beer_name'].value_counts()"
      ],
      "execution_count": 5,
      "outputs": [
        {
          "output_type": "execute_result",
          "data": {
            "text/plain": [
              "90 Minute IPA                          3290\n",
              "Old Rasputin Russian Imperial Stout    3111\n",
              "Sierra Nevada Celebration Ale          3000\n",
              "India Pale Ale                         2960\n",
              "Two Hearted Ale                        2728\n",
              "                                       ... \n",
              "De Horste Brewmaster's Signature          1\n",
              "Ebenezer's Spiced Ale                     1\n",
              "Anxa El Rey                               1\n",
              "Cascade Porter                            1\n",
              "Raspberry Belgian Tripel                  1\n",
              "Name: beer_name, Length: 44076, dtype: int64"
            ]
          },
          "metadata": {},
          "execution_count": 5
        }
      ]
    },
    {
      "cell_type": "code",
      "metadata": {
        "colab": {
          "base_uri": "https://localhost:8080/"
        },
        "id": "BHQcpctQkrth",
        "outputId": "85edca46-9da5-4947-bcbd-eafc0fac891a"
      },
      "source": [
        "reviews['beer_id'].value_counts()"
      ],
      "execution_count": 6,
      "outputs": [
        {
          "output_type": "execute_result",
          "data": {
            "text/plain": [
              "2093     3290\n",
              "412      3111\n",
              "1904     3000\n",
              "1093     2728\n",
              "4083     2704\n",
              "         ... \n",
              "71490       1\n",
              "28600       1\n",
              "64818       1\n",
              "43628       1\n",
              "69853       1\n",
              "Name: beer_id, Length: 49001, dtype: int64"
            ]
          },
          "metadata": {},
          "execution_count": 6
        }
      ]
    },
    {
      "cell_type": "markdown",
      "metadata": {
        "id": "qoTXR3CUADs9"
      },
      "source": [
        "* Vemos que hay 44076 nombres únicos de cervezas, mientras que los IDs únicos son 49001, con lo cual hay cervezas con el mismo nombre pero diferente ID. Para ver el motivo de esta discrepancia busco las filas con el mismo valor de `beer_name` pero distinto valor de `beer_id`:"
      ]
    },
    {
      "cell_type": "code",
      "metadata": {
        "colab": {
          "base_uri": "https://localhost:8080/",
          "height": 310
        },
        "id": "V6E01aUNBwq7",
        "outputId": "97397847-c5cc-47b2-d512-bccbfeecbe3b"
      },
      "source": [
        "df1 = reviews.drop_duplicates(['beer_name', 'beer_id'], keep='last')\n",
        "df1 = df1[df1.duplicated(['beer_name'], keep=False)]\n",
        "df1.head()"
      ],
      "execution_count": 7,
      "outputs": [
        {
          "output_type": "execute_result",
          "data": {
            "text/html": [
              "<div>\n",
              "<style scoped>\n",
              "    .dataframe tbody tr th:only-of-type {\n",
              "        vertical-align: middle;\n",
              "    }\n",
              "\n",
              "    .dataframe tbody tr th {\n",
              "        vertical-align: top;\n",
              "    }\n",
              "\n",
              "    .dataframe thead th {\n",
              "        text-align: right;\n",
              "    }\n",
              "</style>\n",
              "<table border=\"1\" class=\"dataframe\">\n",
              "  <thead>\n",
              "    <tr style=\"text-align: right;\">\n",
              "      <th></th>\n",
              "      <th>brewery_id</th>\n",
              "      <th>brewery_name</th>\n",
              "      <th>review_overall</th>\n",
              "      <th>review_aroma</th>\n",
              "      <th>review_appearance</th>\n",
              "      <th>beer_style</th>\n",
              "      <th>review_palate</th>\n",
              "      <th>review_taste</th>\n",
              "      <th>beer_name</th>\n",
              "      <th>beer_abv</th>\n",
              "      <th>beer_id</th>\n",
              "    </tr>\n",
              "  </thead>\n",
              "  <tbody>\n",
              "    <tr>\n",
              "      <th>328</th>\n",
              "      <td>1075</td>\n",
              "      <td>Caldera Brewing Company</td>\n",
              "      <td>1.0</td>\n",
              "      <td>1.5</td>\n",
              "      <td>1.0</td>\n",
              "      <td>American Adjunct Lager</td>\n",
              "      <td>1.0</td>\n",
              "      <td>1.0</td>\n",
              "      <td>Lawnmower Lager</td>\n",
              "      <td>3.9</td>\n",
              "      <td>20817</td>\n",
              "    </tr>\n",
              "    <tr>\n",
              "      <th>393</th>\n",
              "      <td>1454</td>\n",
              "      <td>Broad Ripple Brew Pub</td>\n",
              "      <td>4.0</td>\n",
              "      <td>3.5</td>\n",
              "      <td>4.0</td>\n",
              "      <td>English Brown Ale</td>\n",
              "      <td>3.5</td>\n",
              "      <td>3.5</td>\n",
              "      <td>Nut Brown</td>\n",
              "      <td>4.7</td>\n",
              "      <td>55097</td>\n",
              "    </tr>\n",
              "    <tr>\n",
              "      <th>725</th>\n",
              "      <td>1075</td>\n",
              "      <td>Caldera Brewing Company</td>\n",
              "      <td>4.0</td>\n",
              "      <td>4.0</td>\n",
              "      <td>4.0</td>\n",
              "      <td>American Porter</td>\n",
              "      <td>3.5</td>\n",
              "      <td>4.0</td>\n",
              "      <td>Coconut Porter</td>\n",
              "      <td>9.5</td>\n",
              "      <td>76963</td>\n",
              "    </tr>\n",
              "    <tr>\n",
              "      <th>877</th>\n",
              "      <td>850</td>\n",
              "      <td>Moon River Brewing Company</td>\n",
              "      <td>4.0</td>\n",
              "      <td>3.5</td>\n",
              "      <td>3.0</td>\n",
              "      <td>Belgian Pale Ale</td>\n",
              "      <td>4.0</td>\n",
              "      <td>4.0</td>\n",
              "      <td>Inspiration Ale</td>\n",
              "      <td>6.0</td>\n",
              "      <td>2724</td>\n",
              "    </tr>\n",
              "    <tr>\n",
              "      <th>913</th>\n",
              "      <td>8802</td>\n",
              "      <td>Conwy Brewery Ltd</td>\n",
              "      <td>3.0</td>\n",
              "      <td>3.0</td>\n",
              "      <td>3.0</td>\n",
              "      <td>English Bitter</td>\n",
              "      <td>3.0</td>\n",
              "      <td>3.0</td>\n",
              "      <td>Celebration Ale</td>\n",
              "      <td>4.2</td>\n",
              "      <td>45855</td>\n",
              "    </tr>\n",
              "  </tbody>\n",
              "</table>\n",
              "</div>"
            ],
            "text/plain": [
              "     brewery_id                brewery_name  ...  beer_abv  beer_id\n",
              "328        1075     Caldera Brewing Company  ...       3.9    20817\n",
              "393        1454       Broad Ripple Brew Pub  ...       4.7    55097\n",
              "725        1075     Caldera Brewing Company  ...       9.5    76963\n",
              "877         850  Moon River Brewing Company  ...       6.0     2724\n",
              "913        8802           Conwy Brewery Ltd  ...       4.2    45855\n",
              "\n",
              "[5 rows x 11 columns]"
            ]
          },
          "metadata": {},
          "execution_count": 7
        }
      ]
    },
    {
      "cell_type": "markdown",
      "metadata": {
        "id": "tOrH0kAxAEEv"
      },
      "source": [
        "#### Tomo el caso de la cerveza `Lawnmower Lager`: "
      ]
    },
    {
      "cell_type": "code",
      "metadata": {
        "colab": {
          "base_uri": "https://localhost:8080/",
          "height": 287
        },
        "id": "P9vYejGaBwq8",
        "outputId": "4536d193-53a6-4d5e-c9fc-e5115dd1833f"
      },
      "source": [
        "df1 = df1[reviews['beer_name'] == 'Lawnmower Lager']\n",
        "df1"
      ],
      "execution_count": 8,
      "outputs": [
        {
          "output_type": "stream",
          "name": "stderr",
          "text": [
            "/usr/local/lib/python3.7/dist-packages/ipykernel_launcher.py:1: UserWarning: Boolean Series key will be reindexed to match DataFrame index.\n",
            "  \"\"\"Entry point for launching an IPython kernel.\n"
          ]
        },
        {
          "output_type": "execute_result",
          "data": {
            "text/html": [
              "<div>\n",
              "<style scoped>\n",
              "    .dataframe tbody tr th:only-of-type {\n",
              "        vertical-align: middle;\n",
              "    }\n",
              "\n",
              "    .dataframe tbody tr th {\n",
              "        vertical-align: top;\n",
              "    }\n",
              "\n",
              "    .dataframe thead th {\n",
              "        text-align: right;\n",
              "    }\n",
              "</style>\n",
              "<table border=\"1\" class=\"dataframe\">\n",
              "  <thead>\n",
              "    <tr style=\"text-align: right;\">\n",
              "      <th></th>\n",
              "      <th>brewery_id</th>\n",
              "      <th>brewery_name</th>\n",
              "      <th>review_overall</th>\n",
              "      <th>review_aroma</th>\n",
              "      <th>review_appearance</th>\n",
              "      <th>beer_style</th>\n",
              "      <th>review_palate</th>\n",
              "      <th>review_taste</th>\n",
              "      <th>beer_name</th>\n",
              "      <th>beer_abv</th>\n",
              "      <th>beer_id</th>\n",
              "    </tr>\n",
              "  </thead>\n",
              "  <tbody>\n",
              "    <tr>\n",
              "      <th>328</th>\n",
              "      <td>1075</td>\n",
              "      <td>Caldera Brewing Company</td>\n",
              "      <td>1.0</td>\n",
              "      <td>1.5</td>\n",
              "      <td>1.0</td>\n",
              "      <td>American Adjunct Lager</td>\n",
              "      <td>1.0</td>\n",
              "      <td>1.0</td>\n",
              "      <td>Lawnmower Lager</td>\n",
              "      <td>3.9</td>\n",
              "      <td>20817</td>\n",
              "    </tr>\n",
              "    <tr>\n",
              "      <th>531391</th>\n",
              "      <td>12471</td>\n",
              "      <td>Ellersick Brewing Company</td>\n",
              "      <td>4.0</td>\n",
              "      <td>4.0</td>\n",
              "      <td>4.0</td>\n",
              "      <td>American Pale Lager</td>\n",
              "      <td>3.5</td>\n",
              "      <td>3.5</td>\n",
              "      <td>Lawnmower Lager</td>\n",
              "      <td>4.8</td>\n",
              "      <td>56095</td>\n",
              "    </tr>\n",
              "    <tr>\n",
              "      <th>1017305</th>\n",
              "      <td>12547</td>\n",
              "      <td>The Livery</td>\n",
              "      <td>4.0</td>\n",
              "      <td>3.0</td>\n",
              "      <td>3.5</td>\n",
              "      <td>German Pilsener</td>\n",
              "      <td>4.0</td>\n",
              "      <td>3.5</td>\n",
              "      <td>Lawnmower Lager</td>\n",
              "      <td>4.0</td>\n",
              "      <td>35435</td>\n",
              "    </tr>\n",
              "  </tbody>\n",
              "</table>\n",
              "</div>"
            ],
            "text/plain": [
              "         brewery_id               brewery_name  ...  beer_abv  beer_id\n",
              "328            1075    Caldera Brewing Company  ...       3.9    20817\n",
              "531391        12471  Ellersick Brewing Company  ...       4.8    56095\n",
              "1017305       12547                 The Livery  ...       4.0    35435\n",
              "\n",
              "[3 rows x 11 columns]"
            ]
          },
          "metadata": {},
          "execution_count": 8
        }
      ]
    },
    {
      "cell_type": "markdown",
      "metadata": {
        "id": "qhpuJh1gDCiI"
      },
      "source": [
        "* Se puede ver que la discrepancia entre la cantidad de valores distintos de `beer_name` y de `beer_id` se debe a que existen cervezas con el mismo nombre elaboradas por distintas cervecerías, a las cuales se les asigna un ID distinto. En algunos casos incluso están catalogadas como diferentes tipos de cerveza (según el atributo `beer_style`).\n",
        "Por lo tanto voy a considerar sólo el atributo `beer_id` para identificar a cada cerveza."
      ]
    },
    {
      "cell_type": "markdown",
      "metadata": {
        "id": "4Pu0Wqq1AQVD"
      },
      "source": [
        "### Algo similar sucede con los atributos `brewery_name` y `brewery_id`:"
      ]
    },
    {
      "cell_type": "code",
      "metadata": {
        "colab": {
          "base_uri": "https://localhost:8080/"
        },
        "id": "O_URWaRkf4Kg",
        "outputId": "33586d01-1e96-495a-e04c-7fc8333dba77"
      },
      "source": [
        "reviews['brewery_name'].value_counts()"
      ],
      "execution_count": 9,
      "outputs": [
        {
          "output_type": "execute_result",
          "data": {
            "text/plain": [
              "Boston Beer Company (Samuel Adams)    38812\n",
              "Dogfish Head Brewery                  33800\n",
              "Stone Brewing Co.                     33022\n",
              "Sierra Nevada Brewing Co.             28637\n",
              "Bell's Brewery, Inc.                  24975\n",
              "                                      ...  \n",
              "Bir&#371; Alus                           1\n",
              "Het Brouw Café                            1\n",
              "Königsegger Walderbräu AG                 1\n",
              "Brauerei Georg Michael GmbH               1\n",
              "Castle Eden Brewery Ltd                   1\n",
              "Name: brewery_name, Length: 5155, dtype: int64"
            ]
          },
          "metadata": {},
          "execution_count": 9
        }
      ]
    },
    {
      "cell_type": "code",
      "metadata": {
        "colab": {
          "base_uri": "https://localhost:8080/"
        },
        "id": "xtTDX4g7hMkU",
        "outputId": "5121bfed-eea7-4d02-df17-2de1d62c62cd"
      },
      "source": [
        "reviews['brewery_id'].value_counts()"
      ],
      "execution_count": 10,
      "outputs": [
        {
          "output_type": "execute_result",
          "data": {
            "text/plain": [
              "35       38812\n",
              "10099    33800\n",
              "147      33022\n",
              "140      28637\n",
              "287      24975\n",
              "         ...  \n",
              "13662        1\n",
              "6871         1\n",
              "23648        1\n",
              "16293        1\n",
              "2592         1\n",
              "Name: brewery_id, Length: 5230, dtype: int64"
            ]
          },
          "metadata": {},
          "execution_count": 10
        }
      ]
    },
    {
      "cell_type": "markdown",
      "metadata": {
        "id": "fYjsggU6Q4jP"
      },
      "source": [
        "* Al igual que lo que sucedía con las cervezas, hay 5155 nombres únicos de cervecerías, mientras que los IDs únicos son 5230, con lo cual hay cervecerías con el mismo nombre pero diferente ID. Para hallar le motivo de la diferencia repito el procedimiento anterior y observo sólamente las filas con el mismo valor de `brewery_name` pero distinto valor de `brewery_id`:"
      ]
    },
    {
      "cell_type": "code",
      "metadata": {
        "colab": {
          "base_uri": "https://localhost:8080/",
          "height": 330
        },
        "id": "zUpabxr6Rhz1",
        "outputId": "6446ba92-ebf6-4afe-a3aa-54fa5541ced6"
      },
      "source": [
        "df2 = reviews.drop_duplicates(['brewery_name', 'brewery_id'], keep='last')\n",
        "df2 = df2[df2.duplicated(['brewery_name'], keep=False)]\n",
        "df2.head()"
      ],
      "execution_count": 11,
      "outputs": [
        {
          "output_type": "execute_result",
          "data": {
            "text/html": [
              "<div>\n",
              "<style scoped>\n",
              "    .dataframe tbody tr th:only-of-type {\n",
              "        vertical-align: middle;\n",
              "    }\n",
              "\n",
              "    .dataframe tbody tr th {\n",
              "        vertical-align: top;\n",
              "    }\n",
              "\n",
              "    .dataframe thead th {\n",
              "        text-align: right;\n",
              "    }\n",
              "</style>\n",
              "<table border=\"1\" class=\"dataframe\">\n",
              "  <thead>\n",
              "    <tr style=\"text-align: right;\">\n",
              "      <th></th>\n",
              "      <th>brewery_id</th>\n",
              "      <th>brewery_name</th>\n",
              "      <th>review_overall</th>\n",
              "      <th>review_aroma</th>\n",
              "      <th>review_appearance</th>\n",
              "      <th>beer_style</th>\n",
              "      <th>review_palate</th>\n",
              "      <th>review_taste</th>\n",
              "      <th>beer_name</th>\n",
              "      <th>beer_abv</th>\n",
              "      <th>beer_id</th>\n",
              "    </tr>\n",
              "  </thead>\n",
              "  <tbody>\n",
              "    <tr>\n",
              "      <th>2768</th>\n",
              "      <td>16994</td>\n",
              "      <td>Ohio Brewing Company</td>\n",
              "      <td>2.5</td>\n",
              "      <td>2.0</td>\n",
              "      <td>3.0</td>\n",
              "      <td>Irish Red Ale</td>\n",
              "      <td>2.5</td>\n",
              "      <td>2.0</td>\n",
              "      <td>Cardinal Ale</td>\n",
              "      <td>5.0</td>\n",
              "      <td>46254</td>\n",
              "    </tr>\n",
              "    <tr>\n",
              "      <th>7201</th>\n",
              "      <td>12003</td>\n",
              "      <td>Emmett's Brewing Company</td>\n",
              "      <td>3.5</td>\n",
              "      <td>3.5</td>\n",
              "      <td>4.0</td>\n",
              "      <td>American Amber / Red Ale</td>\n",
              "      <td>3.0</td>\n",
              "      <td>3.5</td>\n",
              "      <td>Centennial Amber Ale</td>\n",
              "      <td>5.2</td>\n",
              "      <td>26854</td>\n",
              "    </tr>\n",
              "    <tr>\n",
              "      <th>9996</th>\n",
              "      <td>21590</td>\n",
              "      <td>Ram Restaurant &amp; Brewery</td>\n",
              "      <td>3.5</td>\n",
              "      <td>3.5</td>\n",
              "      <td>3.5</td>\n",
              "      <td>American IPA</td>\n",
              "      <td>3.5</td>\n",
              "      <td>3.0</td>\n",
              "      <td>Big Red IPA</td>\n",
              "      <td>6.0</td>\n",
              "      <td>54411</td>\n",
              "    </tr>\n",
              "    <tr>\n",
              "      <th>41807</th>\n",
              "      <td>2414</td>\n",
              "      <td>Tied House Cafe &amp; Brewery</td>\n",
              "      <td>3.0</td>\n",
              "      <td>2.5</td>\n",
              "      <td>3.0</td>\n",
              "      <td>English Brown Ale</td>\n",
              "      <td>3.0</td>\n",
              "      <td>2.5</td>\n",
              "      <td>Ironwood Dark</td>\n",
              "      <td>4.9</td>\n",
              "      <td>6030</td>\n",
              "    </tr>\n",
              "    <tr>\n",
              "      <th>42919</th>\n",
              "      <td>13228</td>\n",
              "      <td>Green Man Brewery</td>\n",
              "      <td>3.5</td>\n",
              "      <td>3.5</td>\n",
              "      <td>3.0</td>\n",
              "      <td>English Barleywine</td>\n",
              "      <td>3.5</td>\n",
              "      <td>3.5</td>\n",
              "      <td>Enrico's Cure</td>\n",
              "      <td>14.5</td>\n",
              "      <td>66769</td>\n",
              "    </tr>\n",
              "  </tbody>\n",
              "</table>\n",
              "</div>"
            ],
            "text/plain": [
              "       brewery_id               brewery_name  ...  beer_abv  beer_id\n",
              "2768        16994       Ohio Brewing Company  ...       5.0    46254\n",
              "7201        12003   Emmett's Brewing Company  ...       5.2    26854\n",
              "9996        21590   Ram Restaurant & Brewery  ...       6.0    54411\n",
              "41807        2414  Tied House Cafe & Brewery  ...       4.9     6030\n",
              "42919       13228          Green Man Brewery  ...      14.5    66769\n",
              "\n",
              "[5 rows x 11 columns]"
            ]
          },
          "metadata": {},
          "execution_count": 11
        }
      ]
    },
    {
      "cell_type": "markdown",
      "metadata": {
        "id": "YeYPBvKrAne4"
      },
      "source": [
        "#### Tomo el caso de la cervecería `Emmett's Brewing Company`: "
      ]
    },
    {
      "cell_type": "code",
      "metadata": {
        "colab": {
          "base_uri": "https://localhost:8080/",
          "height": 304
        },
        "id": "bpw8ehlhz4aD",
        "outputId": "5cc17395-2d15-4a25-9620-90487cc91d99"
      },
      "source": [
        "df2 = df2[reviews['brewery_name'] == 'Emmett\\'s Brewing Company']\n",
        "df2"
      ],
      "execution_count": 12,
      "outputs": [
        {
          "output_type": "stream",
          "name": "stderr",
          "text": [
            "/usr/local/lib/python3.7/dist-packages/ipykernel_launcher.py:1: UserWarning: Boolean Series key will be reindexed to match DataFrame index.\n",
            "  \"\"\"Entry point for launching an IPython kernel.\n"
          ]
        },
        {
          "output_type": "execute_result",
          "data": {
            "text/html": [
              "<div>\n",
              "<style scoped>\n",
              "    .dataframe tbody tr th:only-of-type {\n",
              "        vertical-align: middle;\n",
              "    }\n",
              "\n",
              "    .dataframe tbody tr th {\n",
              "        vertical-align: top;\n",
              "    }\n",
              "\n",
              "    .dataframe thead th {\n",
              "        text-align: right;\n",
              "    }\n",
              "</style>\n",
              "<table border=\"1\" class=\"dataframe\">\n",
              "  <thead>\n",
              "    <tr style=\"text-align: right;\">\n",
              "      <th></th>\n",
              "      <th>brewery_id</th>\n",
              "      <th>brewery_name</th>\n",
              "      <th>review_overall</th>\n",
              "      <th>review_aroma</th>\n",
              "      <th>review_appearance</th>\n",
              "      <th>beer_style</th>\n",
              "      <th>review_palate</th>\n",
              "      <th>review_taste</th>\n",
              "      <th>beer_name</th>\n",
              "      <th>beer_abv</th>\n",
              "      <th>beer_id</th>\n",
              "    </tr>\n",
              "  </thead>\n",
              "  <tbody>\n",
              "    <tr>\n",
              "      <th>7201</th>\n",
              "      <td>12003</td>\n",
              "      <td>Emmett's Brewing Company</td>\n",
              "      <td>3.5</td>\n",
              "      <td>3.5</td>\n",
              "      <td>4.0</td>\n",
              "      <td>American Amber / Red Ale</td>\n",
              "      <td>3.0</td>\n",
              "      <td>3.5</td>\n",
              "      <td>Centennial Amber Ale</td>\n",
              "      <td>5.2</td>\n",
              "      <td>26854</td>\n",
              "    </tr>\n",
              "    <tr>\n",
              "      <th>256225</th>\n",
              "      <td>5188</td>\n",
              "      <td>Emmett's Brewing Company</td>\n",
              "      <td>3.5</td>\n",
              "      <td>3.5</td>\n",
              "      <td>3.5</td>\n",
              "      <td>American Double / Imperial IPA</td>\n",
              "      <td>3.5</td>\n",
              "      <td>4.0</td>\n",
              "      <td>Imperial Pale Ale</td>\n",
              "      <td>10.0</td>\n",
              "      <td>57483</td>\n",
              "    </tr>\n",
              "    <tr>\n",
              "      <th>459529</th>\n",
              "      <td>9704</td>\n",
              "      <td>Emmett's Brewing Company</td>\n",
              "      <td>4.0</td>\n",
              "      <td>3.5</td>\n",
              "      <td>4.0</td>\n",
              "      <td>American Pale Lager</td>\n",
              "      <td>3.5</td>\n",
              "      <td>4.0</td>\n",
              "      <td>Munich Light</td>\n",
              "      <td>4.0</td>\n",
              "      <td>26107</td>\n",
              "    </tr>\n",
              "  </tbody>\n",
              "</table>\n",
              "</div>"
            ],
            "text/plain": [
              "        brewery_id              brewery_name  ...  beer_abv  beer_id\n",
              "7201         12003  Emmett's Brewing Company  ...       5.2    26854\n",
              "256225        5188  Emmett's Brewing Company  ...      10.0    57483\n",
              "459529        9704  Emmett's Brewing Company  ...       4.0    26107\n",
              "\n",
              "[3 rows x 11 columns]"
            ]
          },
          "metadata": {},
          "execution_count": 12
        }
      ]
    },
    {
      "cell_type": "markdown",
      "metadata": {
        "id": "CQiMuFCDceiY"
      },
      "source": [
        "* Vemos que tiene asignados tres IDs distintos. Al buscar en BeerAdvocate los distintos IDs de una misma cervecería se ve que corresponden a distintas sucursales de una misma cadena. Asumiendo que las cervezas que venden las cerveceras en diferentes sucursales son iguales, utilizo sólo el atributo `brewery_name` y descarto `brewery_id`."
      ]
    },
    {
      "cell_type": "code",
      "metadata": {
        "id": "py4MzFqPelin"
      },
      "source": [
        "reviews = reviews.drop('brewery_id', 1)"
      ],
      "execution_count": 13,
      "outputs": []
    },
    {
      "cell_type": "markdown",
      "metadata": {
        "id": "aSn_sl7yKh9x"
      },
      "source": [
        "### Histograma de los atributos numéricos"
      ]
    },
    {
      "cell_type": "code",
      "metadata": {
        "colab": {
          "base_uri": "https://localhost:8080/",
          "height": 716
        },
        "id": "cbgOT3cKVDEH",
        "outputId": "1be78372-013a-4df1-981d-6a3a0b0fc4ed"
      },
      "source": [
        "import matplotlib.pyplot as plt\n",
        "\n",
        "reviews.hist(figsize=(12,12), bins=30)\n",
        "plt.show()"
      ],
      "execution_count": 14,
      "outputs": [
        {
          "output_type": "display_data",
          "data": {
            "image/png": "[encoded data removed]",
            "text/plain": [
              "<Figure size 864x864 with 9 Axes>"
            ]
          },
          "metadata": {
            "needs_background": "light"
          }
        }
      ]
    },
    {
      "cell_type": "markdown",
      "metadata": {
        "id": "9UlPgyDNWh7K"
      },
      "source": [
        "* Se puede ver que una gran mayoría de las reviews son para cervezas con un ID bajo. Esto puede interpretarse como que hay unas pocas cervezas muy populares, y tienen un ID bajo dado que su popularidad hizo que aparezcan primero reviews para ellas que para otras.\n",
        "* [Los puntajes de BeerAdvocate están entre 1 y 5](https://www.beeradvocate.com/community/threads/how-to-review-a-beer.241156/), pero en los histogramas de los atributos `review_overall` y `review_appearance` se ve que hay algunas (muy pocas) reviews con valor `0`. Descarto estos datos.\n",
        "\n"
      ]
    },
    {
      "cell_type": "code",
      "metadata": {
        "id": "IO4X7Y3RVvfW",
        "colab": {
          "base_uri": "https://localhost:8080/"
        },
        "outputId": "312498af-766b-40d5-e5d1-9f8e343b3db5"
      },
      "source": [
        "reviews = reviews.drop(reviews[(reviews.review_overall < 1) | (reviews.review_appearance < 1)].index)\n",
        "reviews.info()"
      ],
      "execution_count": 15,
      "outputs": [
        {
          "output_type": "stream",
          "name": "stdout",
          "text": [
            "<class 'pandas.core.frame.DataFrame'>\n",
            "Int64Index: 1518807 entries, 0 to 1586613\n",
            "Data columns (total 10 columns):\n",
            " #   Column             Non-Null Count    Dtype  \n",
            "---  ------             --------------    -----  \n",
            " 0   brewery_name       1518807 non-null  object \n",
            " 1   review_overall     1518807 non-null  float64\n",
            " 2   review_aroma       1518807 non-null  float64\n",
            " 3   review_appearance  1518807 non-null  float64\n",
            " 4   beer_style         1518807 non-null  object \n",
            " 5   review_palate      1518807 non-null  float64\n",
            " 6   review_taste       1518807 non-null  float64\n",
            " 7   beer_name          1518807 non-null  object \n",
            " 8   beer_abv           1518807 non-null  float64\n",
            " 9   beer_id            1518807 non-null  int64  \n",
            "dtypes: float64(6), int64(1), object(3)\n",
            "memory usage: 127.5+ MB\n"
          ]
        }
      ]
    },
    {
      "cell_type": "markdown",
      "metadata": {
        "id": "X-kEWXyh_EI9"
      },
      "source": [
        "* Veo que hay atributos categóricos no numéricos de la clase `object`, los convierto a la clase `pandas.Categorical`"
      ]
    },
    {
      "cell_type": "code",
      "metadata": {
        "id": "W0ir52JuGbRs"
      },
      "source": [
        "reviews[reviews.select_dtypes(['object']).columns] = reviews.select_dtypes(['object']).\\\n",
        "                                                         apply(lambda x: x.astype('category'))"
      ],
      "execution_count": 16,
      "outputs": []
    },
    {
      "cell_type": "markdown",
      "metadata": {
        "id": "V-jgQ3ygS1D9"
      },
      "source": [
        "## Agrupamiento de los datos: Clustering jerárquico\n",
        "\n"
      ]
    },
    {
      "cell_type": "markdown",
      "metadata": {
        "id": "jjKG0HVAKWAD"
      },
      "source": [
        "### Para esto voy a seleccionar las cervezas que tienen al menos 100 reseñas. Esto reduce el número total de cervezas y mejora el tiempo de ejecución\n",
        "\n",
        "### Para evaluar el modelo voy a usar tres índices apropiados para problemas en los que no se cuenta con las etiquetas de verdad de campo*:\n",
        "\n",
        "* Índice de silueta\n",
        "* Índice de Davies-Bouldin\n",
        "* Índice de Calinski-Harabasz\n",
        "\n",
        "[*Fuente](https://scikit-learn.org/stable/modules/clustering.html#clustering-performance-evaluation)"
      ]
    },
    {
      "cell_type": "code",
      "metadata": {
        "colab": {
          "base_uri": "https://localhost:8080/",
          "height": 766,
          "referenced_widgets": [
            "2098e7fe4f834814902f5220ea867f25",
            "7a3c9140fc7b4ec4a01e6c056ce3dd1f",
            "23f0954272644f5cb35307d3e882f8be"
          ]
        },
        "id": "EOndlQbPiwyI",
        "outputId": "071a502c-83ac-4a54-d879-c603cb96e0da"
      },
      "source": [
        "from sklearn.preprocessing import StandardScaler\n",
        "from sklearn.decomposition import PCA\n",
        "from sklearn.cluster import AgglomerativeClustering\n",
        "from sklearn.pipeline import Pipeline\n",
        "from sklearn.metrics import silhouette_score\n",
        "from sklearn.metrics import davies_bouldin_score\n",
        "from sklearn.metrics import calinski_harabasz_score\n",
        "import numpy as np\n",
        "import ipywidgets as widgets\n",
        "import time\n",
        "\n",
        "# Genero las variables 'count' y 'mean' para los atributos\n",
        "reviews_pivot = reviews[['beer_id','review_overall','review_taste','review_aroma','review_palate','review_appearance','beer_abv']]\\\n",
        "    .pivot_table(index='beer_id', aggfunc=('count','mean'))\n",
        "\n",
        "# Colapso la tabla\n",
        "reviews_pivot.columns = reviews_pivot.columns.to_series().str.join('_')\n",
        "reviews_pivot.reset_index(inplace=True)\n",
        "\n",
        "reviews_pivot.rename(columns={'beer_abv_count': 'count'}, inplace=True)\n",
        "\n",
        "reviews_pivot.drop(list(reviews_pivot.filter(regex = '_count')), \n",
        "                      axis = 1, \n",
        "                      inplace = True)\n",
        "\n",
        "reviews_pivot.sort_values(by=['count'], ascending=False)\n",
        "\n",
        "# Selecciono las cervezas con 100 o más reseñas\n",
        "X = reviews_pivot.query('count >= 100').iloc[:, 2:8]\n",
        "\n",
        "# Hago un barrido entre 2 y 100 clusters\n",
        "n_clusters_list = np.arange(2, 101, 1)\n",
        "\n",
        "# Inicializo un diccionario con los labels resultantes de cada entrenamiento\n",
        "labels_dict = {item: [] for item in n_clusters_list}\n",
        "\n",
        "# Inicializo un diccionario con los scores resultantes de cada entrenamiento\n",
        "scores_dict = dict()\n",
        "scores_dict['silhouette_sc'] = []\n",
        "scores_dict['davies_bouldin_sc'] = []\n",
        "scores_dict['calinski_harabasz_sc'] = []\n",
        "\n",
        "progress_bar = widgets.FloatProgress(\n",
        "    value=0,\n",
        "    min=0,\n",
        "    max=1,\n",
        "    bar_style='info',\n",
        "    style={'bar_color': 'green'},\n",
        "    orientation='horizontal',\n",
        "    layout=widgets.Layout(width='max_content',\n",
        "                            visibility = 'hidden')\n",
        ")\n",
        "display(progress_bar)\n",
        "progress_bar.layout.visibility = 'visible'\n",
        "progress_counter = 0\n",
        "start_time = time.time()\n",
        "\n",
        "for n_cls in n_clusters_list:\n",
        "\n",
        "    # Defino el modelo\n",
        "    sca = StandardScaler()\n",
        "    pca = PCA()\n",
        "    cls = AgglomerativeClustering(n_clusters=n_cls)\n",
        "    pipe = Pipeline([('sca', sca),\n",
        "                    ('pca', pca),\n",
        "                    ('cls', cls)])\n",
        "\n",
        "    pipe.fit(X)\n",
        "\n",
        "    labels = cls.labels_\n",
        "\n",
        "    # Guardo las etiquetas\n",
        "    labels_dict[n_cls].append(labels)\n",
        "\n",
        "    # Guardo los índices\n",
        "    silhouette_sc = silhouette_score(X, labels)\n",
        "    davies_bouldin_sc = davies_bouldin_score(X, labels)\n",
        "    calinski_harabasz_sc = calinski_harabasz_score(X, labels)\n",
        "    scores_dict['silhouette_sc'].append(silhouette_sc)\n",
        "    scores_dict['davies_bouldin_sc'].append(davies_bouldin_sc)\n",
        "    scores_dict['calinski_harabasz_sc'].append(calinski_harabasz_sc)\n",
        "\n",
        "    # Barra de progreso\n",
        "    progress_counter += 1\n",
        "    progress_bar.value = progress_counter/len(n_clusters_list)\n",
        "    progress_bar.description = str(int(100 * progress_counter/len(n_clusters_list))) + ' %'\n",
        "\n",
        "end_time = time.time()\n",
        "print('Tiempo total: ' + str('{0:.1f}'.format((end_time - start_time)/60)) + ' minutos.')\n",
        "progress_bar.layout.visibility = 'hidden'\n",
        "\n",
        "# Grafico los índices en función de la cantidad de clusters\n",
        "fig, axs = plt.subplots(nrows=3, figsize=(12,12), sharex=False)\n",
        "ticks = np.arange(1,101,3).tolist()\n",
        "\n",
        "axs[0].plot(n_clusters_list,scores_dict['silhouette_sc'])\n",
        "axs[1].plot(n_clusters_list,scores_dict['davies_bouldin_sc'])\n",
        "axs[2].plot(n_clusters_list,scores_dict['calinski_harabasz_sc'])\n",
        "\n",
        "axs[0].set_title('Indice de silueta')\n",
        "axs[1].set_title('Indice de Davies-Bouldin')\n",
        "axs[2].set_title('Indice de Calinski-Harabasz')\n",
        "\n",
        "axs[0].axvline(x=7, linestyle='--')\n",
        "axs[1].axvline(x=7, linestyle='--')\n",
        "axs[2].axvline(x=7, linestyle='--')\n",
        "\n",
        "axs[0].set_xticks(ticks)\n",
        "axs[1].set_xticks(ticks)\n",
        "axs[2].set_xticks(ticks)\n",
        "\n",
        "axs[0].set_xticklabels(ticks)\n",
        "axs[1].set_xticklabels(ticks)\n",
        "axs[2].set_xticklabels(ticks)\n",
        "\n",
        "fig.show()"
      ],
      "execution_count": 17,
      "outputs": [
        {
          "output_type": "display_data",
          "data": {
            "application/vnd.jupyter.widget-view+json": {
              "model_id": "2098e7fe4f834814902f5220ea867f25",
              "version_minor": 0,
              "version_major": 2
            },
            "text/plain": [
              "FloatProgress(value=0.0, bar_style='info', layout=Layout(visibility='hidden', width='max_content'), max=1.0, s…"
            ]
          },
          "metadata": {}
        },
        {
          "output_type": "stream",
          "name": "stdout",
          "text": [
            "Tiempo total: 1.0 minutos.\n"
          ]
        },
        {
          "output_type": "display_data",
          "data": {
            "image/png": "[encoded data removed]",
            "text/plain": [
              "<Figure size 864x864 with 3 Axes>"
            ]
          },
          "metadata": {
            "needs_background": "light"
          }
        }
      ]
    },
    {
      "cell_type": "markdown",
      "metadata": {
        "id": "287Kr_3HY-bj"
      },
      "source": [
        "* El índice de silueta indica lo \"bien definido\" que están los clústers, y es mejor cuanto más grande es su valor.\n",
        "* El índice de Calinski-Harabasz indica qué tan similares son los elementos de cada clúster entre sí y es mejor cuanto más grande es su valor.\n",
        "* El índice de Davies-Bouldin indica el grado de separación entre los clústers, y en ete caso un valor menor indica una mejor separación*\n",
        "* Se ve que los tres índices coinciden en 7 como el valor óptimo para la cantidad de clústers.\n",
        "\n",
        "    [*Fuente](https://scikit-learn.org/stable/modules/clustering.html#clustering-performance-evaluation)"
      ]
    },
    {
      "cell_type": "markdown",
      "metadata": {
        "id": "sTI3f73_0FW6"
      },
      "source": [
        "### Grafico el dendograma con los 7 clústers indicados con diferentes colores"
      ]
    },
    {
      "cell_type": "code",
      "metadata": {
        "id": "W28kjLtV5INl",
        "colab": {
          "base_uri": "https://localhost:8080/",
          "height": 448
        },
        "outputId": "afb6beae-7b29-4c92-fb4c-5c963ea4f65b"
      },
      "source": [
        "import scipy.cluster.hierarchy as shc\n",
        "import matplotlib as mpl\n",
        "\n",
        "# Selecciono las cervezas con 100 o más reseñas\n",
        "data = reviews_pivot.query('count >= 100').iloc[:, 2:8]\n",
        "scaler = StandardScaler()\n",
        "data_scaled = scaler.fit_transform(data)\n",
        "data_scaled = pd.DataFrame(data_scaled, columns=data.columns)\n",
        "\n",
        "cmap = plt.cm.rainbow(np.linspace(0, 1, 7))\n",
        "shc.set_link_color_palette([mpl.colors.rgb2hex(rgb[:3]) for rgb in cmap])\n",
        "\n",
        "plt.figure(figsize=(20, 7))  \n",
        "plt.title(\"Dendrograma\")  \n",
        "dend = shc.dendrogram(shc.linkage(data_scaled, method='ward'), truncate_mode=\"level\", p=6, color_threshold=25)"
      ],
      "execution_count": 18,
      "outputs": [
        {
          "output_type": "display_data",
          "data": {
            "image/png": "[encoded data removed]",
            "text/plain": [
              "<Figure size 1440x504 with 1 Axes>"
            ]
          },
          "metadata": {
            "needs_background": "light"
          }
        }
      ]
    },
    {
      "cell_type": "markdown",
      "metadata": {
        "id": "ulBPjG1Gh2IW"
      },
      "source": [
        "### Para encontrar la cerveza más representativa de cada clúster (que no necesariamente será la mejor valorada) calculo el promedio de los atributos para todas las cervezas del clúster y luego busco la cerveza más cercana a dicho punto."
      ]
    },
    {
      "cell_type": "markdown",
      "metadata": {
        "id": "oauh-oukoO8c"
      },
      "source": [
        "#### Obtengo los centroides de cada cluster"
      ]
    },
    {
      "cell_type": "code",
      "metadata": {
        "colab": {
          "base_uri": "https://localhost:8080/",
          "height": 287
        },
        "id": "04T1wf75m4Nt",
        "outputId": "665e3ee8-a2df-4b61-8168-8e8a2c1430ed"
      },
      "source": [
        "X = reviews_pivot.query('count >= 100')\n",
        "X.insert(loc=0, column='labels', value=labels_dict[7][0])\n",
        "\n",
        "cluster_centers_df = X.\\\n",
        "                     groupby('labels').\\\n",
        "                     mean().\\\n",
        "                     reset_index()\n",
        "\n",
        "cluster_centers_df = cluster_centers_df.drop(['beer_id', 'count'], 1)\n",
        "\n",
        "print('Tabla con los centroides de cada cluster:')\n",
        "cluster_centers_df"
      ],
      "execution_count": 19,
      "outputs": [
        {
          "output_type": "stream",
          "name": "stdout",
          "text": [
            "Tabla con los centroides de cada cluster:\n"
          ]
        },
        {
          "output_type": "execute_result",
          "data": {
            "text/html": [
              "<div>\n",
              "<style scoped>\n",
              "    .dataframe tbody tr th:only-of-type {\n",
              "        vertical-align: middle;\n",
              "    }\n",
              "\n",
              "    .dataframe tbody tr th {\n",
              "        vertical-align: top;\n",
              "    }\n",
              "\n",
              "    .dataframe thead th {\n",
              "        text-align: right;\n",
              "    }\n",
              "</style>\n",
              "<table border=\"1\" class=\"dataframe\">\n",
              "  <thead>\n",
              "    <tr style=\"text-align: right;\">\n",
              "      <th></th>\n",
              "      <th>labels</th>\n",
              "      <th>beer_abv_mean</th>\n",
              "      <th>review_appearance_mean</th>\n",
              "      <th>review_aroma_mean</th>\n",
              "      <th>review_overall_mean</th>\n",
              "      <th>review_palate_mean</th>\n",
              "      <th>review_taste_mean</th>\n",
              "    </tr>\n",
              "  </thead>\n",
              "  <tbody>\n",
              "    <tr>\n",
              "      <th>0</th>\n",
              "      <td>0</td>\n",
              "      <td>8.948376</td>\n",
              "      <td>3.850965</td>\n",
              "      <td>3.765379</td>\n",
              "      <td>3.688804</td>\n",
              "      <td>3.735006</td>\n",
              "      <td>3.754296</td>\n",
              "    </tr>\n",
              "    <tr>\n",
              "      <th>1</th>\n",
              "      <td>1</td>\n",
              "      <td>5.925492</td>\n",
              "      <td>3.928189</td>\n",
              "      <td>3.819994</td>\n",
              "      <td>3.944637</td>\n",
              "      <td>3.820530</td>\n",
              "      <td>3.891062</td>\n",
              "    </tr>\n",
              "    <tr>\n",
              "      <th>2</th>\n",
              "      <td>2</td>\n",
              "      <td>4.768526</td>\n",
              "      <td>2.586958</td>\n",
              "      <td>2.278723</td>\n",
              "      <td>2.670335</td>\n",
              "      <td>2.475465</td>\n",
              "      <td>2.389318</td>\n",
              "    </tr>\n",
              "    <tr>\n",
              "      <th>3</th>\n",
              "      <td>3</td>\n",
              "      <td>5.325701</td>\n",
              "      <td>3.631174</td>\n",
              "      <td>3.446423</td>\n",
              "      <td>3.647068</td>\n",
              "      <td>3.501606</td>\n",
              "      <td>3.507001</td>\n",
              "    </tr>\n",
              "    <tr>\n",
              "      <th>4</th>\n",
              "      <td>4</td>\n",
              "      <td>10.790945</td>\n",
              "      <td>4.141707</td>\n",
              "      <td>4.160956</td>\n",
              "      <td>4.054116</td>\n",
              "      <td>4.119672</td>\n",
              "      <td>4.210867</td>\n",
              "    </tr>\n",
              "    <tr>\n",
              "      <th>5</th>\n",
              "      <td>5</td>\n",
              "      <td>5.204132</td>\n",
              "      <td>3.226399</td>\n",
              "      <td>2.956698</td>\n",
              "      <td>3.178334</td>\n",
              "      <td>3.045394</td>\n",
              "      <td>2.995943</td>\n",
              "    </tr>\n",
              "    <tr>\n",
              "      <th>6</th>\n",
              "      <td>6</td>\n",
              "      <td>7.405330</td>\n",
              "      <td>4.121972</td>\n",
              "      <td>4.114621</td>\n",
              "      <td>4.126289</td>\n",
              "      <td>4.061705</td>\n",
              "      <td>4.167793</td>\n",
              "    </tr>\n",
              "  </tbody>\n",
              "</table>\n",
              "</div>"
            ],
            "text/plain": [
              "   labels  beer_abv_mean  ...  review_palate_mean  review_taste_mean\n",
              "0       0       8.948376  ...            3.735006           3.754296\n",
              "1       1       5.925492  ...            3.820530           3.891062\n",
              "2       2       4.768526  ...            2.475465           2.389318\n",
              "3       3       5.325701  ...            3.501606           3.507001\n",
              "4       4      10.790945  ...            4.119672           4.210867\n",
              "5       5       5.204132  ...            3.045394           2.995943\n",
              "6       6       7.405330  ...            4.061705           4.167793\n",
              "\n",
              "[7 rows x 7 columns]"
            ]
          },
          "metadata": {},
          "execution_count": 19
        }
      ]
    },
    {
      "cell_type": "markdown",
      "metadata": {
        "id": "bFBLM35XoWcN"
      },
      "source": [
        "#### Calculo las distancias de todos los puntos de cada clúster a su centroide y selecciono la menor como la más representativa"
      ]
    },
    {
      "cell_type": "code",
      "metadata": {
        "id": "O_vYYBzKpGZh"
      },
      "source": [
        "from scipy.spatial.distance import cdist\n",
        "\n",
        "def closest_point(point, points):\n",
        "    return points[cdist([point], points).argmin()]\n",
        "\n",
        "def match_value(df, col1, x, col2):\n",
        "    return df[df[col1] == x][col2].values[0]\n",
        "\n",
        "central_beers = pd.DataFrame()\n",
        "\n",
        "for cluster_tag in range(7):\n",
        "    df1 = X[X['labels'] == cluster_tag]\n",
        "    df2 = cluster_centers_df[cluster_centers_df['labels'] == cluster_tag]\n",
        "\n",
        "    # Genero una columna con las coordenadas de los puntos a comparar\n",
        "    df1['point'] = [(x1,x2,x3,x4,x5,x6) for x1,x2,x3,x4,x5,x6 in zip(df1['beer_abv_mean'],\n",
        "                                                    df1['review_appearance_mean'],\n",
        "                                                    df1['review_aroma_mean'],\n",
        "                                                    df1['review_overall_mean'],\n",
        "                                                    df1['review_palate_mean'],\n",
        "                                                    df1['review_taste_mean'])]\n",
        "    # Genero una columna con las coordenadas del centroide del clúster\n",
        "    df2['point'] = [(x1,x2,x3,x4,x5,x6) for x1,x2,x3,x4,x5,x6 in zip(df2['beer_abv_mean'],\n",
        "                                                    df2['review_appearance_mean'],\n",
        "                                                    df2['review_aroma_mean'],\n",
        "                                                    df2['review_overall_mean'],\n",
        "                                                    df2['review_palate_mean'],\n",
        "                                                    df2['review_taste_mean'])]\n",
        "\n",
        "    # Obtengo el punto más cercano al centroide\n",
        "    df2['closest'] = [closest_point(x, list(df1['point'])) for x in df2['point']]\n",
        "    df2['beer_id'] = [match_value(df1, 'point', x, 'beer_id') for x in df2['closest']]\n",
        "\n",
        "    #Armo la tabla con las cervezas más representativas de cada clúster\n",
        "    beer_name = reviews[reviews['beer_id'] == df2['beer_id'][cluster_tag]]['beer_name'].iloc[0]\n",
        "    brewery_name = reviews[reviews['beer_id'] == df2['beer_id'][cluster_tag]]['brewery_name'].iloc[0]\n",
        "\n",
        "    central_beer = reviews_pivot[reviews_pivot['beer_id'] == df2['beer_id'][cluster_tag]]\n",
        "    central_beer.insert(loc=0, column='cluster_tag', value=cluster_tag)\n",
        "    central_beer.insert(loc=1, column='beer_name', value=beer_name)\n",
        "    central_beer.insert(loc=2, column='berewery_name', value=brewery_name)\n",
        "\n",
        "    central_beers = central_beers.append(central_beer)"
      ],
      "execution_count": null,
      "outputs": []
    },
    {
      "cell_type": "code",
      "metadata": {
        "colab": {
          "base_uri": "https://localhost:8080/",
          "height": 498
        },
        "id": "hLx-piNp9Wsu",
        "outputId": "e2625b6b-09ea-4a1e-8eb8-cf3c210449fa"
      },
      "source": [
        "print('Estas son las cervezas más representativas de cada clúster:')\n",
        "central_beers"
      ],
      "execution_count": 21,
      "outputs": [
        {
          "output_type": "stream",
          "name": "stdout",
          "text": [
            "Estas son las cervezas más representativas de cada clúster:\n"
          ]
        },
        {
          "output_type": "execute_result",
          "data": {
            "text/html": [
              "<div>\n",
              "<style scoped>\n",
              "    .dataframe tbody tr th:only-of-type {\n",
              "        vertical-align: middle;\n",
              "    }\n",
              "\n",
              "    .dataframe tbody tr th {\n",
              "        vertical-align: top;\n",
              "    }\n",
              "\n",
              "    .dataframe thead th {\n",
              "        text-align: right;\n",
              "    }\n",
              "</style>\n",
              "<table border=\"1\" class=\"dataframe\">\n",
              "  <thead>\n",
              "    <tr style=\"text-align: right;\">\n",
              "      <th></th>\n",
              "      <th>cluster_tag</th>\n",
              "      <th>beer_name</th>\n",
              "      <th>berewery_name</th>\n",
              "      <th>beer_id</th>\n",
              "      <th>count</th>\n",
              "      <th>beer_abv_mean</th>\n",
              "      <th>review_appearance_mean</th>\n",
              "      <th>review_aroma_mean</th>\n",
              "      <th>review_overall_mean</th>\n",
              "      <th>review_palate_mean</th>\n",
              "      <th>review_taste_mean</th>\n",
              "    </tr>\n",
              "  </thead>\n",
              "  <tbody>\n",
              "    <tr>\n",
              "      <th>44645</th>\n",
              "      <td>0</td>\n",
              "      <td>Ommegang Aphrodite</td>\n",
              "      <td>Brewery Ommegang</td>\n",
              "      <td>71369</td>\n",
              "      <td>138</td>\n",
              "      <td>8.90</td>\n",
              "      <td>3.884058</td>\n",
              "      <td>3.699275</td>\n",
              "      <td>3.706522</td>\n",
              "      <td>3.710145</td>\n",
              "      <td>3.706522</td>\n",
              "    </tr>\n",
              "    <tr>\n",
              "      <th>29818</th>\n",
              "      <td>1</td>\n",
              "      <td>Bitter Woman In The Rye</td>\n",
              "      <td>Tyranena Brewing Company</td>\n",
              "      <td>49861</td>\n",
              "      <td>106</td>\n",
              "      <td>5.90</td>\n",
              "      <td>3.924528</td>\n",
              "      <td>3.797170</td>\n",
              "      <td>3.910377</td>\n",
              "      <td>3.896226</td>\n",
              "      <td>3.863208</td>\n",
              "    </tr>\n",
              "    <tr>\n",
              "      <th>1518</th>\n",
              "      <td>2</td>\n",
              "      <td>Miller Genuine Draft</td>\n",
              "      <td>Miller Brewing Co.</td>\n",
              "      <td>2280</td>\n",
              "      <td>607</td>\n",
              "      <td>4.66</td>\n",
              "      <td>2.579077</td>\n",
              "      <td>2.127677</td>\n",
              "      <td>2.662273</td>\n",
              "      <td>2.430807</td>\n",
              "      <td>2.295717</td>\n",
              "    </tr>\n",
              "    <tr>\n",
              "      <th>3450</th>\n",
              "      <td>3</td>\n",
              "      <td>Black Toad Dark Ale</td>\n",
              "      <td>Black Toad Brewing Co.</td>\n",
              "      <td>5729</td>\n",
              "      <td>213</td>\n",
              "      <td>5.30</td>\n",
              "      <td>3.647887</td>\n",
              "      <td>3.446009</td>\n",
              "      <td>3.629108</td>\n",
              "      <td>3.462441</td>\n",
              "      <td>3.525822</td>\n",
              "    </tr>\n",
              "    <tr>\n",
              "      <th>43694</th>\n",
              "      <td>4</td>\n",
              "      <td>Black Butte XXIII</td>\n",
              "      <td>Deschutes Brewery</td>\n",
              "      <td>70102</td>\n",
              "      <td>233</td>\n",
              "      <td>10.80</td>\n",
              "      <td>4.163090</td>\n",
              "      <td>4.075107</td>\n",
              "      <td>4.156652</td>\n",
              "      <td>4.094421</td>\n",
              "      <td>4.208155</td>\n",
              "    </tr>\n",
              "    <tr>\n",
              "      <th>23100</th>\n",
              "      <td>5</td>\n",
              "      <td>Shock Top Belgian White</td>\n",
              "      <td>Anheuser-Busch</td>\n",
              "      <td>39908</td>\n",
              "      <td>585</td>\n",
              "      <td>5.20</td>\n",
              "      <td>3.245299</td>\n",
              "      <td>2.999145</td>\n",
              "      <td>3.250427</td>\n",
              "      <td>3.041880</td>\n",
              "      <td>3.030769</td>\n",
              "    </tr>\n",
              "    <tr>\n",
              "      <th>45091</th>\n",
              "      <td>6</td>\n",
              "      <td>Tröegs Perpetual IPA</td>\n",
              "      <td>Tröegs Brewing Company</td>\n",
              "      <td>71969</td>\n",
              "      <td>264</td>\n",
              "      <td>7.50</td>\n",
              "      <td>4.153409</td>\n",
              "      <td>4.128788</td>\n",
              "      <td>4.119318</td>\n",
              "      <td>4.062500</td>\n",
              "      <td>4.138258</td>\n",
              "    </tr>\n",
              "  </tbody>\n",
              "</table>\n",
              "</div>"
            ],
            "text/plain": [
              "       cluster_tag  ... review_taste_mean\n",
              "44645            0  ...          3.706522\n",
              "29818            1  ...          3.863208\n",
              "1518             2  ...          2.295717\n",
              "3450             3  ...          3.525822\n",
              "43694            4  ...          4.208155\n",
              "23100            5  ...          3.030769\n",
              "45091            6  ...          4.138258\n",
              "\n",
              "[7 rows x 11 columns]"
            ]
          },
          "metadata": {},
          "execution_count": 21
        }
      ]
    },
    {
      "cell_type": "markdown",
      "metadata": {
        "id": "_i4Q6gFku-Om"
      },
      "source": [
        "## Pregunta 1: ¿Qué factores influyen más en la calidad de una cerveza?"
      ]
    },
    {
      "cell_type": "markdown",
      "metadata": {
        "id": "ITBqLpQp5j_p"
      },
      "source": [
        "### Según [BeedAdvocate](https://www.beeradvocate.com/community/threads/how-to-review-a-beer.241156/) el atributo `overall` describe la percepción de la calidad general de la cerveza. Para definir los factores que más influyen puedo ver cómo correlaciona cada atributo con el atributo `overall`. "
      ]
    },
    {
      "cell_type": "code",
      "metadata": {
        "colab": {
          "base_uri": "https://localhost:8080/",
          "height": 624
        },
        "id": "vx7Fm9mWhZjh",
        "outputId": "f184a3f8-7ba9-4bb0-de6e-4e8251e7f205"
      },
      "source": [
        "import seaborn as sns\n",
        "\n",
        "corr = X.iloc[:,3:9].corr()\n",
        "\n",
        "cmap = sns.diverging_palette(230, 20, as_cmap=True)\n",
        "sns.set_theme(style=\"white\")\n",
        "\n",
        "fig, ax = plt.subplots(figsize=(12, 8))\n",
        "ax = sns.heatmap(corr, cmap=cmap, vmin=-1, vmax=1, center=0,\n",
        "            square=False, linewidths=.5, annot=True, fmt='0.2f')"
      ],
      "execution_count": 22,
      "outputs": [
        {
          "output_type": "display_data",
          "data": {
            "image/png": "[encoded data removed]",
            "text/plain": [
              "<Figure size 864x576 with 2 Axes>"
            ]
          },
          "metadata": {}
        }
      ]
    },
    {
      "cell_type": "markdown",
      "metadata": {
        "id": "Uz7D7HBejBv8"
      },
      "source": [
        "* Se ve que los atributos que más correlacionan con `overall` son el sabor, con 0.94 y la sensación al paladar, con 0.93\n",
        "\n",
        "* También se ve que el contenido alcohólico no correlaciona muy bien con ninguno de los demás atributos (como era esperable), pero con `overall` es con el que menos correlaciona. Esto puede indicar una indiferencia generalizada por el contenido alcohólico a la hora de evaluar la calidad de la cerveza"
      ]
    },
    {
      "cell_type": "markdown",
      "metadata": {
        "id": "8sorWCZdl3S2"
      },
      "source": [
        "## Pregunta 2: ¿Cómo elegiría N cervezas para recomendar?"
      ]
    },
    {
      "cell_type": "markdown",
      "metadata": {
        "id": "Z6NYfpgzmTTp"
      },
      "source": [
        "### Para esto, primero voy a elegir las cervezas más populares (con el criterio de que tengan más de 500 reseñas) y entre ellas las N mejor valoradas."
      ]
    },
    {
      "cell_type": "code",
      "metadata": {
        "colab": {
          "base_uri": "https://localhost:8080/",
          "height": 435
        },
        "id": "z6zJUlRl2w01",
        "outputId": "c5857d5f-4539-43b5-cb8b-0dbf8ce320e7"
      },
      "source": [
        "# Selecciono 5 cervezas para recomendar\n",
        "N = 5\n",
        "top_beers = reviews_pivot.query('count >= 500').sort_values('review_overall_mean', ascending=False).head(N).copy()\n",
        "\n",
        "beers = []\n",
        "breweries = []\n",
        "\n",
        "for beer_id in top_beers['beer_id']:\n",
        "    beers.append(reviews[reviews['beer_id'] == beer_id]['beer_name'].iloc[0])\n",
        "    breweries.append(reviews[reviews['beer_id'] == beer_id]['brewery_name'].iloc[0])\n",
        "\n",
        "top_beers.insert(loc=0, column='beer_name', value=beers)\n",
        "top_beers.insert(loc=1, column='berewery_name', value=breweries)\n",
        "print('Las ' + str(N) + ' cervezas recomendadas son:')\n",
        "top_beers"
      ],
      "execution_count": 23,
      "outputs": [
        {
          "output_type": "stream",
          "name": "stdout",
          "text": [
            "Las 5 cervezas recomendadas son:\n"
          ]
        },
        {
          "output_type": "execute_result",
          "data": {
            "text/html": [
              "<div>\n",
              "<style scoped>\n",
              "    .dataframe tbody tr th:only-of-type {\n",
              "        vertical-align: middle;\n",
              "    }\n",
              "\n",
              "    .dataframe tbody tr th {\n",
              "        vertical-align: top;\n",
              "    }\n",
              "\n",
              "    .dataframe thead th {\n",
              "        text-align: right;\n",
              "    }\n",
              "</style>\n",
              "<table border=\"1\" class=\"dataframe\">\n",
              "  <thead>\n",
              "    <tr style=\"text-align: right;\">\n",
              "      <th></th>\n",
              "      <th>beer_name</th>\n",
              "      <th>berewery_name</th>\n",
              "      <th>beer_id</th>\n",
              "      <th>count</th>\n",
              "      <th>beer_abv_mean</th>\n",
              "      <th>review_appearance_mean</th>\n",
              "      <th>review_aroma_mean</th>\n",
              "      <th>review_overall_mean</th>\n",
              "      <th>review_palate_mean</th>\n",
              "      <th>review_taste_mean</th>\n",
              "    </tr>\n",
              "  </thead>\n",
              "  <tbody>\n",
              "    <tr>\n",
              "      <th>990</th>\n",
              "      <td>Trappist Westvleteren 12</td>\n",
              "      <td>Brouwerij Westvleteren (Sint-Sixtusabdij van W...</td>\n",
              "      <td>1545</td>\n",
              "      <td>1272</td>\n",
              "      <td>10.2</td>\n",
              "      <td>4.454009</td>\n",
              "      <td>4.583333</td>\n",
              "      <td>4.617925</td>\n",
              "      <td>4.633255</td>\n",
              "      <td>4.718553</td>\n",
              "    </tr>\n",
              "    <tr>\n",
              "      <th>12281</th>\n",
              "      <td>Pliny The Younger</td>\n",
              "      <td>Russian River Brewing Company</td>\n",
              "      <td>21690</td>\n",
              "      <td>610</td>\n",
              "      <td>11.0</td>\n",
              "      <td>4.482787</td>\n",
              "      <td>4.723770</td>\n",
              "      <td>4.600000</td>\n",
              "      <td>4.612295</td>\n",
              "      <td>4.724590</td>\n",
              "    </tr>\n",
              "    <tr>\n",
              "      <th>28291</th>\n",
              "      <td>Founders CBS Imperial Stout</td>\n",
              "      <td>Founders Brewing Company</td>\n",
              "      <td>47658</td>\n",
              "      <td>637</td>\n",
              "      <td>10.6</td>\n",
              "      <td>4.457614</td>\n",
              "      <td>4.558085</td>\n",
              "      <td>4.591052</td>\n",
              "      <td>4.579278</td>\n",
              "      <td>4.697017</td>\n",
              "    </tr>\n",
              "    <tr>\n",
              "      <th>4700</th>\n",
              "      <td>Pliny The Elder</td>\n",
              "      <td>Russian River Brewing Company</td>\n",
              "      <td>7971</td>\n",
              "      <td>2527</td>\n",
              "      <td>8.0</td>\n",
              "      <td>4.388603</td>\n",
              "      <td>4.612188</td>\n",
              "      <td>4.590028</td>\n",
              "      <td>4.451326</td>\n",
              "      <td>4.630985</td>\n",
              "    </tr>\n",
              "    <tr>\n",
              "      <th>480</th>\n",
              "      <td>Weihenstephaner Hefeweissbier</td>\n",
              "      <td>Bayerische Staatsbrauerei Weihenstephan</td>\n",
              "      <td>731</td>\n",
              "      <td>1981</td>\n",
              "      <td>5.4</td>\n",
              "      <td>4.380363</td>\n",
              "      <td>4.296315</td>\n",
              "      <td>4.515901</td>\n",
              "      <td>4.283190</td>\n",
              "      <td>4.425038</td>\n",
              "    </tr>\n",
              "  </tbody>\n",
              "</table>\n",
              "</div>"
            ],
            "text/plain": [
              "                           beer_name  ... review_taste_mean\n",
              "990         Trappist Westvleteren 12  ...          4.718553\n",
              "12281              Pliny The Younger  ...          4.724590\n",
              "28291    Founders CBS Imperial Stout  ...          4.697017\n",
              "4700                 Pliny The Elder  ...          4.630985\n",
              "480    Weihenstephaner Hefeweissbier  ...          4.425038\n",
              "\n",
              "[5 rows x 10 columns]"
            ]
          },
          "metadata": {},
          "execution_count": 23
        }
      ]
    }
  ]
}
