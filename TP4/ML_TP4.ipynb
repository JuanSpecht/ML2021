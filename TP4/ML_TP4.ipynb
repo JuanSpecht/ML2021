{
  "nbformat": 4,
  "nbformat_minor": 0,
  "metadata": {
    "colab": {
      "name": "ML_TP4.ipynb",
      "provenance": [],
      "authorship_tag": "ABX9TyOZCDV0kxq84F0vWKhrWC1o",
      "include_colab_link": true
    },
    "kernelspec": {
      "name": "python3",
      "display_name": "Python 3"
    },
    "language_info": {
      "name": "python"
    }
  },
  "cells": [
    {
      "cell_type": "markdown",
      "metadata": {
        "id": "view-in-github",
        "colab_type": "text"
      },
      "source": [
        "<a href=\"https://colab.research.google.com/github/JuanSpecht/ML2021/blob/main/TP4/ML_TP4.ipynb\" target=\"_parent\"><img src=\"https://colab.research.google.com/assets/colab-badge.svg\" alt=\"Open In Colab\"/></a>"
      ]
    },
    {
      "cell_type": "markdown",
      "metadata": {
        "id": "JmLjrUgPqoYl"
      },
      "source": [
        "# Aprendizaje de máquina, TP N° 4: Fake News"
      ]
    },
    {
      "cell_type": "code",
      "metadata": {
        "id": "6z2dXatUkDEl"
      },
      "source": [
        "import pandas as pd\n",
        "\n",
        "true_news_df = pd.read_csv(\"https://raw.githubusercontent.com/manlio99/Materia-de-aprendizaje/master/3_MidtermProjects/ProjectFN/data/true.csv\")\n",
        "fake_news_df = pd.read_csv(\"https://raw.githubusercontent.com/manlio99/Materia-de-aprendizaje/master/3_MidtermProjects/ProjectFN/data/fake.csv\")"
      ],
      "execution_count": null,
      "outputs": []
    },
    {
      "cell_type": "code",
      "metadata": {
        "colab": {
          "base_uri": "https://localhost:8080/",
          "height": 204
        },
        "id": "t5D9mV43kshq",
        "outputId": "30997173-2b6b-465f-b3bb-e118aa43050d"
      },
      "source": [
        "true_news_df.head()"
      ],
      "execution_count": null,
      "outputs": [
        {
          "output_type": "execute_result",
          "data": {
            "text/html": [
              "<div>\n",
              "<style scoped>\n",
              "    .dataframe tbody tr th:only-of-type {\n",
              "        vertical-align: middle;\n",
              "    }\n",
              "\n",
              "    .dataframe tbody tr th {\n",
              "        vertical-align: top;\n",
              "    }\n",
              "\n",
              "    .dataframe thead th {\n",
              "        text-align: right;\n",
              "    }\n",
              "</style>\n",
              "<table border=\"1\" class=\"dataframe\">\n",
              "  <thead>\n",
              "    <tr style=\"text-align: right;\">\n",
              "      <th></th>\n",
              "      <th>title</th>\n",
              "      <th>text</th>\n",
              "      <th>subject</th>\n",
              "      <th>date</th>\n",
              "    </tr>\n",
              "  </thead>\n",
              "  <tbody>\n",
              "    <tr>\n",
              "      <th>0</th>\n",
              "      <td>As U.S. budget fight looms, Republicans flip t...</td>\n",
              "      <td>WASHINGTON (Reuters) - The head of a conservat...</td>\n",
              "      <td>politicsNews</td>\n",
              "      <td>December 31, 2017</td>\n",
              "    </tr>\n",
              "    <tr>\n",
              "      <th>1</th>\n",
              "      <td>U.S. military to accept transgender recruits o...</td>\n",
              "      <td>WASHINGTON (Reuters) - Transgender people will...</td>\n",
              "      <td>politicsNews</td>\n",
              "      <td>December 29, 2017</td>\n",
              "    </tr>\n",
              "    <tr>\n",
              "      <th>2</th>\n",
              "      <td>Senior U.S. Republican senator: 'Let Mr. Muell...</td>\n",
              "      <td>WASHINGTON (Reuters) - The special counsel inv...</td>\n",
              "      <td>politicsNews</td>\n",
              "      <td>December 31, 2017</td>\n",
              "    </tr>\n",
              "    <tr>\n",
              "      <th>3</th>\n",
              "      <td>FBI Russia probe helped by Australian diplomat...</td>\n",
              "      <td>WASHINGTON (Reuters) - Trump campaign adviser ...</td>\n",
              "      <td>politicsNews</td>\n",
              "      <td>December 30, 2017</td>\n",
              "    </tr>\n",
              "    <tr>\n",
              "      <th>4</th>\n",
              "      <td>Trump wants Postal Service to charge 'much mor...</td>\n",
              "      <td>SEATTLE/WASHINGTON (Reuters) - President Donal...</td>\n",
              "      <td>politicsNews</td>\n",
              "      <td>December 29, 2017</td>\n",
              "    </tr>\n",
              "  </tbody>\n",
              "</table>\n",
              "</div>"
            ],
            "text/plain": [
              "                                               title  ...                date\n",
              "0  As U.S. budget fight looms, Republicans flip t...  ...  December 31, 2017 \n",
              "1  U.S. military to accept transgender recruits o...  ...  December 29, 2017 \n",
              "2  Senior U.S. Republican senator: 'Let Mr. Muell...  ...  December 31, 2017 \n",
              "3  FBI Russia probe helped by Australian diplomat...  ...  December 30, 2017 \n",
              "4  Trump wants Postal Service to charge 'much mor...  ...  December 29, 2017 \n",
              "\n",
              "[5 rows x 4 columns]"
            ]
          },
          "metadata": {},
          "execution_count": 2
        }
      ]
    },
    {
      "cell_type": "code",
      "metadata": {
        "id": "Q-m_UKmUk7Qa",
        "colab": {
          "base_uri": "https://localhost:8080/",
          "height": 204
        },
        "outputId": "f316a2f8-263d-49d9-9411-3ca4c1742a00"
      },
      "source": [
        "fake_news_df.head()"
      ],
      "execution_count": null,
      "outputs": [
        {
          "output_type": "execute_result",
          "data": {
            "text/html": [
              "<div>\n",
              "<style scoped>\n",
              "    .dataframe tbody tr th:only-of-type {\n",
              "        vertical-align: middle;\n",
              "    }\n",
              "\n",
              "    .dataframe tbody tr th {\n",
              "        vertical-align: top;\n",
              "    }\n",
              "\n",
              "    .dataframe thead th {\n",
              "        text-align: right;\n",
              "    }\n",
              "</style>\n",
              "<table border=\"1\" class=\"dataframe\">\n",
              "  <thead>\n",
              "    <tr style=\"text-align: right;\">\n",
              "      <th></th>\n",
              "      <th>title</th>\n",
              "      <th>text</th>\n",
              "      <th>subject</th>\n",
              "      <th>date</th>\n",
              "    </tr>\n",
              "  </thead>\n",
              "  <tbody>\n",
              "    <tr>\n",
              "      <th>0</th>\n",
              "      <td>Donald Trump Sends Out Embarrassing New Year’...</td>\n",
              "      <td>Donald Trump just couldn t wish all Americans ...</td>\n",
              "      <td>News</td>\n",
              "      <td>December 31, 2017</td>\n",
              "    </tr>\n",
              "    <tr>\n",
              "      <th>1</th>\n",
              "      <td>Drunk Bragging Trump Staffer Started Russian ...</td>\n",
              "      <td>House Intelligence Committee Chairman Devin Nu...</td>\n",
              "      <td>News</td>\n",
              "      <td>December 31, 2017</td>\n",
              "    </tr>\n",
              "    <tr>\n",
              "      <th>2</th>\n",
              "      <td>Sheriff David Clarke Becomes An Internet Joke...</td>\n",
              "      <td>On Friday, it was revealed that former Milwauk...</td>\n",
              "      <td>News</td>\n",
              "      <td>December 30, 2017</td>\n",
              "    </tr>\n",
              "    <tr>\n",
              "      <th>3</th>\n",
              "      <td>Trump Is So Obsessed He Even Has Obama’s Name...</td>\n",
              "      <td>On Christmas day, Donald Trump announced that ...</td>\n",
              "      <td>News</td>\n",
              "      <td>December 29, 2017</td>\n",
              "    </tr>\n",
              "    <tr>\n",
              "      <th>4</th>\n",
              "      <td>Pope Francis Just Called Out Donald Trump Dur...</td>\n",
              "      <td>Pope Francis used his annual Christmas Day mes...</td>\n",
              "      <td>News</td>\n",
              "      <td>December 25, 2017</td>\n",
              "    </tr>\n",
              "  </tbody>\n",
              "</table>\n",
              "</div>"
            ],
            "text/plain": [
              "                                               title  ...               date\n",
              "0   Donald Trump Sends Out Embarrassing New Year’...  ...  December 31, 2017\n",
              "1   Drunk Bragging Trump Staffer Started Russian ...  ...  December 31, 2017\n",
              "2   Sheriff David Clarke Becomes An Internet Joke...  ...  December 30, 2017\n",
              "3   Trump Is So Obsessed He Even Has Obama’s Name...  ...  December 29, 2017\n",
              "4   Pope Francis Just Called Out Donald Trump Dur...  ...  December 25, 2017\n",
              "\n",
              "[5 rows x 4 columns]"
            ]
          },
          "metadata": {},
          "execution_count": 3
        }
      ]
    },
    {
      "cell_type": "markdown",
      "metadata": {
        "id": "AsKK0EQTmXWN"
      },
      "source": [
        "Agrego a cada dataframe una columna con el atributo `veracity` (`true` o `fake`), y los combino\n",
        "\n"
      ]
    },
    {
      "cell_type": "code",
      "metadata": {
        "id": "i9ZmOmGEop_D",
        "colab": {
          "base_uri": "https://localhost:8080/",
          "height": 419
        },
        "outputId": "ca5cbe25-2174-4f99-fe2b-154f6878db62"
      },
      "source": [
        "true_news_df['veracity'] = 'true'\n",
        "fake_news_df['veracity'] = 'fake'\n",
        "true_news_df['veracity'] = pd.Categorical(true_news_df.veracity)\n",
        "fake_news_df['veracity'] = pd.Categorical(fake_news_df.veracity)\n",
        "\n",
        "news_df = pd.concat([true_news_df, fake_news_df], ignore_index=True)\n",
        "news_df"
      ],
      "execution_count": null,
      "outputs": [
        {
          "output_type": "execute_result",
          "data": {
            "text/html": [
              "<div>\n",
              "<style scoped>\n",
              "    .dataframe tbody tr th:only-of-type {\n",
              "        vertical-align: middle;\n",
              "    }\n",
              "\n",
              "    .dataframe tbody tr th {\n",
              "        vertical-align: top;\n",
              "    }\n",
              "\n",
              "    .dataframe thead th {\n",
              "        text-align: right;\n",
              "    }\n",
              "</style>\n",
              "<table border=\"1\" class=\"dataframe\">\n",
              "  <thead>\n",
              "    <tr style=\"text-align: right;\">\n",
              "      <th></th>\n",
              "      <th>title</th>\n",
              "      <th>text</th>\n",
              "      <th>subject</th>\n",
              "      <th>date</th>\n",
              "      <th>veracity</th>\n",
              "    </tr>\n",
              "  </thead>\n",
              "  <tbody>\n",
              "    <tr>\n",
              "      <th>0</th>\n",
              "      <td>As U.S. budget fight looms, Republicans flip t...</td>\n",
              "      <td>WASHINGTON (Reuters) - The head of a conservat...</td>\n",
              "      <td>politicsNews</td>\n",
              "      <td>December 31, 2017</td>\n",
              "      <td>true</td>\n",
              "    </tr>\n",
              "    <tr>\n",
              "      <th>1</th>\n",
              "      <td>U.S. military to accept transgender recruits o...</td>\n",
              "      <td>WASHINGTON (Reuters) - Transgender people will...</td>\n",
              "      <td>politicsNews</td>\n",
              "      <td>December 29, 2017</td>\n",
              "      <td>true</td>\n",
              "    </tr>\n",
              "    <tr>\n",
              "      <th>2</th>\n",
              "      <td>Senior U.S. Republican senator: 'Let Mr. Muell...</td>\n",
              "      <td>WASHINGTON (Reuters) - The special counsel inv...</td>\n",
              "      <td>politicsNews</td>\n",
              "      <td>December 31, 2017</td>\n",
              "      <td>true</td>\n",
              "    </tr>\n",
              "    <tr>\n",
              "      <th>3</th>\n",
              "      <td>FBI Russia probe helped by Australian diplomat...</td>\n",
              "      <td>WASHINGTON (Reuters) - Trump campaign adviser ...</td>\n",
              "      <td>politicsNews</td>\n",
              "      <td>December 30, 2017</td>\n",
              "      <td>true</td>\n",
              "    </tr>\n",
              "    <tr>\n",
              "      <th>4</th>\n",
              "      <td>Trump wants Postal Service to charge 'much mor...</td>\n",
              "      <td>SEATTLE/WASHINGTON (Reuters) - President Donal...</td>\n",
              "      <td>politicsNews</td>\n",
              "      <td>December 29, 2017</td>\n",
              "      <td>true</td>\n",
              "    </tr>\n",
              "    <tr>\n",
              "      <th>...</th>\n",
              "      <td>...</td>\n",
              "      <td>...</td>\n",
              "      <td>...</td>\n",
              "      <td>...</td>\n",
              "      <td>...</td>\n",
              "    </tr>\n",
              "    <tr>\n",
              "      <th>44893</th>\n",
              "      <td>McPain: John McCain Furious That Iran Treated ...</td>\n",
              "      <td>21st Century Wire says As 21WIRE reported earl...</td>\n",
              "      <td>Middle-east</td>\n",
              "      <td>January 16, 2016</td>\n",
              "      <td>fake</td>\n",
              "    </tr>\n",
              "    <tr>\n",
              "      <th>44894</th>\n",
              "      <td>JUSTICE? Yahoo Settles E-mail Privacy Class-ac...</td>\n",
              "      <td>21st Century Wire says It s a familiar theme. ...</td>\n",
              "      <td>Middle-east</td>\n",
              "      <td>January 16, 2016</td>\n",
              "      <td>fake</td>\n",
              "    </tr>\n",
              "    <tr>\n",
              "      <th>44895</th>\n",
              "      <td>Sunnistan: US and Allied ‘Safe Zone’ Plan to T...</td>\n",
              "      <td>Patrick Henningsen  21st Century WireRemember ...</td>\n",
              "      <td>Middle-east</td>\n",
              "      <td>January 15, 2016</td>\n",
              "      <td>fake</td>\n",
              "    </tr>\n",
              "    <tr>\n",
              "      <th>44896</th>\n",
              "      <td>How to Blow $700 Million: Al Jazeera America F...</td>\n",
              "      <td>21st Century Wire says Al Jazeera America will...</td>\n",
              "      <td>Middle-east</td>\n",
              "      <td>January 14, 2016</td>\n",
              "      <td>fake</td>\n",
              "    </tr>\n",
              "    <tr>\n",
              "      <th>44897</th>\n",
              "      <td>10 U.S. Navy Sailors Held by Iranian Military ...</td>\n",
              "      <td>21st Century Wire says As 21WIRE predicted in ...</td>\n",
              "      <td>Middle-east</td>\n",
              "      <td>January 12, 2016</td>\n",
              "      <td>fake</td>\n",
              "    </tr>\n",
              "  </tbody>\n",
              "</table>\n",
              "<p>44898 rows × 5 columns</p>\n",
              "</div>"
            ],
            "text/plain": [
              "                                                   title  ... veracity\n",
              "0      As U.S. budget fight looms, Republicans flip t...  ...     true\n",
              "1      U.S. military to accept transgender recruits o...  ...     true\n",
              "2      Senior U.S. Republican senator: 'Let Mr. Muell...  ...     true\n",
              "3      FBI Russia probe helped by Australian diplomat...  ...     true\n",
              "4      Trump wants Postal Service to charge 'much mor...  ...     true\n",
              "...                                                  ...  ...      ...\n",
              "44893  McPain: John McCain Furious That Iran Treated ...  ...     fake\n",
              "44894  JUSTICE? Yahoo Settles E-mail Privacy Class-ac...  ...     fake\n",
              "44895  Sunnistan: US and Allied ‘Safe Zone’ Plan to T...  ...     fake\n",
              "44896  How to Blow $700 Million: Al Jazeera America F...  ...     fake\n",
              "44897  10 U.S. Navy Sailors Held by Iranian Military ...  ...     fake\n",
              "\n",
              "[44898 rows x 5 columns]"
            ]
          },
          "metadata": {},
          "execution_count": 4
        }
      ]
    },
    {
      "cell_type": "markdown",
      "metadata": {
        "id": "G7CQznC7sTca"
      },
      "source": [
        "Comparo la cantidad de artículos `fake` y `true`"
      ]
    },
    {
      "cell_type": "code",
      "metadata": {
        "colab": {
          "base_uri": "https://localhost:8080/",
          "height": 295
        },
        "id": "2kcs4vp_t6l0",
        "outputId": "22c1f669-510a-40f1-8a74-419d937787a8"
      },
      "source": [
        "import seaborn as sns\n",
        "import matplotlib.pyplot as plt\n",
        "\n",
        "fig, ax = plt.subplots(figsize=(4, 4))\n",
        "sns.countplot(x=\"veracity\", data=news_df)\n",
        "ax.set_title(\"Veracity Counts\")\n",
        "ax.set_xlabel(\"Veracity\")\n",
        "ax.set_ylabel(\"Count\")\n",
        "plt.show()"
      ],
      "execution_count": null,
      "outputs": [
        {
          "output_type": "display_data",
          "data": {
            "image/png": "[encoded data removed]",
            "text/plain": [
              "<Figure size 288x288 with 1 Axes>"
            ]
          },
          "metadata": {
            "needs_background": "light"
          }
        }
      ]
    },
    {
      "cell_type": "markdown",
      "metadata": {
        "id": "T2WvCrqZwCqO"
      },
      "source": [
        "Vemos que los datos están desbalanceados, por lo tanto eliminamos filas al azar de la categoría \"fake\" para trabajar con la misma cantidad de datos en ambos datasets, de esto se encarga la biblioteca `imblearn`"
      ]
    },
    {
      "cell_type": "code",
      "metadata": {
        "colab": {
          "base_uri": "https://localhost:8080/"
        },
        "id": "za55B5EUv79R",
        "outputId": "b6b165cf-0dfd-4926-a8d8-e2f63327f08d"
      },
      "source": [
        "# !pip install imbalanced-learn\n",
        "from imblearn.under_sampling import RandomUnderSampler\n",
        "\n",
        "rus = RandomUnderSampler(random_state=0)\n",
        "X = news_df\n",
        "y = news_df['veracity']\n",
        "X_resampled, _ = rus.fit_resample(X, y)\n",
        "\n",
        "news_df = pd.DataFrame(data=X_resampled, columns=news_df.columns)"
      ],
      "execution_count": null,
      "outputs": [
        {
          "output_type": "stream",
          "name": "stderr",
          "text": [
            "/usr/local/lib/python3.7/dist-packages/sklearn/utils/deprecation.py:87: FutureWarning: Function safe_indexing is deprecated; safe_indexing is deprecated in version 0.22 and will be removed in version 0.24.\n",
            "  warnings.warn(msg, category=FutureWarning)\n"
          ]
        }
      ]
    },
    {
      "cell_type": "code",
      "metadata": {
        "colab": {
          "base_uri": "https://localhost:8080/",
          "height": 295
        },
        "id": "VrlKNmM-0sY5",
        "outputId": "20404a79-9d1e-4b84-dc8e-5bf379f45dda"
      },
      "source": [
        "fig, ax = plt.subplots(figsize=(4, 4))\n",
        "sns.countplot(x=\"veracity\", data=news_df)\n",
        "ax.set_title(\"Veracity Counts\")\n",
        "ax.set_xlabel(\"Veracity\")\n",
        "ax.set_ylabel(\"Count\")\n",
        "plt.show()"
      ],
      "execution_count": null,
      "outputs": [
        {
          "output_type": "display_data",
          "data": {
            "image/png": "[encoded data removed]",
            "text/plain": [
              "<Figure size 288x288 with 1 Axes>"
            ]
          },
          "metadata": {
            "needs_background": "light"
          }
        }
      ]
    },
    {
      "cell_type": "markdown",
      "metadata": {
        "id": "3MAmKKXQu1-9"
      },
      "source": [
        "Divido el dataset en entrenamiento/testeo"
      ]
    },
    {
      "cell_type": "code",
      "metadata": {
        "id": "mqP5w9oo0A17"
      },
      "source": [
        "from sklearn.model_selection import train_test_split\n",
        "\n",
        "data = news_df.drop('veracity', axis=1)\n",
        "labels = news_df['veracity']\n",
        "X_train, X_test, y_train, y_test = train_test_split(data,labels,test_size=0.2,random_state=1)"
      ],
      "execution_count": null,
      "outputs": []
    },
    {
      "cell_type": "markdown",
      "metadata": {
        "id": "acosk-A6vlRh"
      },
      "source": [
        "Voy a usar el modelo \"bolsa de palabras\", en el cual no se tiene en cuenta la ubicación relativa de las palabras o la gramática, sino sólo el número de veces que cada palabra aparece en los documentos.\n",
        "\n",
        "Para esto, voy a usar tf-idf (term frequency–inverse document frequency) para evaluar el peso relativo de cada palabra en los artículos falsos y los reales. \n",
        "\n",
        "El método tf-idf tiene en cuenta la ocurrencia de cada palabra en cada documento dividida por la longitud del documento, obteniendo la frecuencia relativa de cada palabra. \n",
        "\n",
        "Además, asigna un peso a cada palabra que es inversamente proporcional a la ocurrencia de dicha palabra entre todos los documentos. Esto hace que las palabras más informativas (las menos comunes) tengan un peso mayor."
      ]
    },
    {
      "cell_type": "code",
      "metadata": {
        "colab": {
          "base_uri": "https://localhost:8080/",
          "height": 377
        },
        "id": "TBh797DbXtbX",
        "outputId": "9e410424-6b4b-4f5f-ed0a-9705f21531ca"
      },
      "source": [
        "from sklearn.feature_extraction.text import TfidfVectorizer\n",
        "from scipy.sparse import csr_matrix\n",
        "\n",
        "# Con stop_words='english' elimino las palabras más comunes en el idioma inglés,\n",
        "# como 'the', 'and', etc\n",
        "\n",
        "idf_vectorizer = TfidfVectorizer(stop_words='english', use_idf=True, norm='l2')\n",
        "X = idf_vectorizer.fit_transform(true_news_df.text)\n",
        "X_sum=X.sum(axis=0)\n",
        "true_idf = pd.DataFrame(X_sum/X_sum.max(), columns=idf_vectorizer.get_feature_names())\n",
        "true_idf = true_idf.T\n",
        "true_idf = true_idf.sort_values(by=0,ascending=False)\n",
        "true_idf.reset_index(level=0, inplace=True)\n",
        "true_idf.columns = ['word', 'weight']\n",
        "print('Palabras más informativas de las noticias reales:')\n",
        "true_idf.head(10)"
      ],
      "execution_count": null,
      "outputs": [
        {
          "output_type": "stream",
          "name": "stdout",
          "text": [
            "Palabras más informativas de las noticias reales:\n"
          ]
        },
        {
          "output_type": "execute_result",
          "data": {
            "text/html": [
              "<div>\n",
              "<style scoped>\n",
              "    .dataframe tbody tr th:only-of-type {\n",
              "        vertical-align: middle;\n",
              "    }\n",
              "\n",
              "    .dataframe tbody tr th {\n",
              "        vertical-align: top;\n",
              "    }\n",
              "\n",
              "    .dataframe thead th {\n",
              "        text-align: right;\n",
              "    }\n",
              "</style>\n",
              "<table border=\"1\" class=\"dataframe\">\n",
              "  <thead>\n",
              "    <tr style=\"text-align: right;\">\n",
              "      <th></th>\n",
              "      <th>word</th>\n",
              "      <th>weight</th>\n",
              "    </tr>\n",
              "  </thead>\n",
              "  <tbody>\n",
              "    <tr>\n",
              "      <th>0</th>\n",
              "      <td>said</td>\n",
              "      <td>1.000000</td>\n",
              "    </tr>\n",
              "    <tr>\n",
              "      <th>1</th>\n",
              "      <td>trump</td>\n",
              "      <td>0.903117</td>\n",
              "    </tr>\n",
              "    <tr>\n",
              "      <th>2</th>\n",
              "      <td>president</td>\n",
              "      <td>0.448800</td>\n",
              "    </tr>\n",
              "    <tr>\n",
              "      <th>3</th>\n",
              "      <td>house</td>\n",
              "      <td>0.377567</td>\n",
              "    </tr>\n",
              "    <tr>\n",
              "      <th>4</th>\n",
              "      <td>state</td>\n",
              "      <td>0.365267</td>\n",
              "    </tr>\n",
              "    <tr>\n",
              "      <th>5</th>\n",
              "      <td>reuters</td>\n",
              "      <td>0.349891</td>\n",
              "    </tr>\n",
              "    <tr>\n",
              "      <th>6</th>\n",
              "      <td>republican</td>\n",
              "      <td>0.335482</td>\n",
              "    </tr>\n",
              "    <tr>\n",
              "      <th>7</th>\n",
              "      <td>government</td>\n",
              "      <td>0.327143</td>\n",
              "    </tr>\n",
              "    <tr>\n",
              "      <th>8</th>\n",
              "      <td>united</td>\n",
              "      <td>0.311150</td>\n",
              "    </tr>\n",
              "    <tr>\n",
              "      <th>9</th>\n",
              "      <td>states</td>\n",
              "      <td>0.308572</td>\n",
              "    </tr>\n",
              "  </tbody>\n",
              "</table>\n",
              "</div>"
            ],
            "text/plain": [
              "         word    weight\n",
              "0        said  1.000000\n",
              "1       trump  0.903117\n",
              "2   president  0.448800\n",
              "3       house  0.377567\n",
              "4       state  0.365267\n",
              "5     reuters  0.349891\n",
              "6  republican  0.335482\n",
              "7  government  0.327143\n",
              "8      united  0.311150\n",
              "9      states  0.308572"
            ]
          },
          "metadata": {},
          "execution_count": 18
        }
      ]
    },
    {
      "cell_type": "code",
      "metadata": {
        "colab": {
          "base_uri": "https://localhost:8080/",
          "height": 377
        },
        "id": "zXWKtHAeMk6L",
        "outputId": "49e24454-3ccf-42d5-9ce9-99cd5650325b"
      },
      "source": [
        "\n",
        "idf_vectorizer = TfidfVectorizer(stop_words='english', use_idf=True, norm='l2')\n",
        "X = idf_vectorizer.fit_transform(fake_news_df.text)\n",
        "X_sum=X.sum(axis=0)\n",
        "\n",
        "fake_idf = pd.DataFrame(X_sum/X_sum.max(), columns=idf_vectorizer.get_feature_names())\n",
        "fake_idf = fake_idf.T\n",
        "fake_idf = fake_idf.sort_values(by=0,ascending=False)\n",
        "fake_idf.reset_index(level=0, inplace=True)\n",
        "fake_idf.columns = ['word', 'weight']\n",
        "print('Palabras más informativas entre las fake news:')\n",
        "fake_idf.head(10)"
      ],
      "execution_count": null,
      "outputs": [
        {
          "output_type": "stream",
          "name": "stdout",
          "text": [
            "Palabras más informativas entre las fake news:\n"
          ]
        },
        {
          "output_type": "execute_result",
          "data": {
            "text/html": [
              "<div>\n",
              "<style scoped>\n",
              "    .dataframe tbody tr th:only-of-type {\n",
              "        vertical-align: middle;\n",
              "    }\n",
              "\n",
              "    .dataframe tbody tr th {\n",
              "        vertical-align: top;\n",
              "    }\n",
              "\n",
              "    .dataframe thead th {\n",
              "        text-align: right;\n",
              "    }\n",
              "</style>\n",
              "<table border=\"1\" class=\"dataframe\">\n",
              "  <thead>\n",
              "    <tr style=\"text-align: right;\">\n",
              "      <th></th>\n",
              "      <th>word</th>\n",
              "      <th>weight</th>\n",
              "    </tr>\n",
              "  </thead>\n",
              "  <tbody>\n",
              "    <tr>\n",
              "      <th>0</th>\n",
              "      <td>trump</td>\n",
              "      <td>1.000000</td>\n",
              "    </tr>\n",
              "    <tr>\n",
              "      <th>1</th>\n",
              "      <td>said</td>\n",
              "      <td>0.371374</td>\n",
              "    </tr>\n",
              "    <tr>\n",
              "      <th>2</th>\n",
              "      <td>president</td>\n",
              "      <td>0.366910</td>\n",
              "    </tr>\n",
              "    <tr>\n",
              "      <th>3</th>\n",
              "      <td>clinton</td>\n",
              "      <td>0.347849</td>\n",
              "    </tr>\n",
              "    <tr>\n",
              "      <th>4</th>\n",
              "      <td>obama</td>\n",
              "      <td>0.323422</td>\n",
              "    </tr>\n",
              "    <tr>\n",
              "      <th>5</th>\n",
              "      <td>people</td>\n",
              "      <td>0.320805</td>\n",
              "    </tr>\n",
              "    <tr>\n",
              "      <th>6</th>\n",
              "      <td>hillary</td>\n",
              "      <td>0.288202</td>\n",
              "    </tr>\n",
              "    <tr>\n",
              "      <th>7</th>\n",
              "      <td>donald</td>\n",
              "      <td>0.270163</td>\n",
              "    </tr>\n",
              "    <tr>\n",
              "      <th>8</th>\n",
              "      <td>just</td>\n",
              "      <td>0.254323</td>\n",
              "    </tr>\n",
              "    <tr>\n",
              "      <th>9</th>\n",
              "      <td>like</td>\n",
              "      <td>0.235270</td>\n",
              "    </tr>\n",
              "  </tbody>\n",
              "</table>\n",
              "</div>"
            ],
            "text/plain": [
              "        word    weight\n",
              "0      trump  1.000000\n",
              "1       said  0.371374\n",
              "2  president  0.366910\n",
              "3    clinton  0.347849\n",
              "4      obama  0.323422\n",
              "5     people  0.320805\n",
              "6    hillary  0.288202\n",
              "7     donald  0.270163\n",
              "8       just  0.254323\n",
              "9       like  0.235270"
            ]
          },
          "metadata": {},
          "execution_count": 19
        }
      ]
    },
    {
      "cell_type": "markdown",
      "metadata": {
        "id": "9mBES1XNz1_N"
      },
      "source": [
        "* Comparando ambas listas, se ve que \"trump\" es mencionado en mayor medida en las fake news. Por otro lado el término \"said\" (\"dijo\" en castellano) se menciona mucho más en las noticias reales, lo que puede indicar un mayor uso de citas o referencias a declaraciones en las noticias reales que en las falsas."
      ]
    },
    {
      "cell_type": "markdown",
      "metadata": {
        "id": "s5hZi9SKEOWW"
      },
      "source": [
        "Entreno el clasificador SVM utilizando el atributo `text` del dataset"
      ]
    },
    {
      "cell_type": "code",
      "metadata": {
        "id": "ELLGm_9hfF7R"
      },
      "source": [
        "from sklearn.pipeline import Pipeline\n",
        "from sklearn.linear_model import SGDClassifier\n",
        "import numpy as np\n",
        "'''\n",
        "* Con ngram_range = (1,n) genero un vocabulario no sólo de las palabras\n",
        "individuales sino también de conjuntos de n palabras, aunque con \n",
        "ngram_range = (1,n) (una sola palabra) obtengo el mejor resultado\n",
        "\n",
        "* El clasificador SGDClassifier con el parámetro loss='hinge' es igual\n",
        "a un SVM, pero más adecuado para trabajar con matrices dispersas:\n",
        "https://scikit-learn.org/stable/modules/generated/sklearn.linear_model.SGDClassifier.html\n",
        "'''\n",
        "text_clf = Pipeline([\n",
        "    ('tfidf_vect', TfidfVectorizer(ngram_range=(1,1))),\n",
        "    ('clf', SGDClassifier(loss='hinge', penalty='l2',\n",
        "                          random_state=42, alpha=1e-3,\n",
        "                          max_iter=5, tol=None))\n",
        "])\n",
        "\n",
        "text_clf.fit(X_train.text, y_train)\n",
        "y_pred = text_clf.predict(X_test.text)"
      ],
      "execution_count": null,
      "outputs": []
    },
    {
      "cell_type": "markdown",
      "metadata": {
        "id": "PHfveiWz4unH"
      },
      "source": [
        "Evalúo el modelo"
      ]
    },
    {
      "cell_type": "code",
      "metadata": {
        "colab": {
          "base_uri": "https://localhost:8080/"
        },
        "id": "WWBIybB0Re4L",
        "outputId": "5a4e0105-2253-45b1-c815-5ae723dde1a1"
      },
      "source": [
        "from sklearn import metrics\n",
        "\n",
        "print(metrics.classification_report(y_test, y_pred))"
      ],
      "execution_count": null,
      "outputs": [
        {
          "output_type": "stream",
          "name": "stdout",
          "text": [
            "              precision    recall  f1-score   support\n",
            "\n",
            "        fake       0.98      0.97      0.97      4282\n",
            "        true       0.97      0.98      0.97      4285\n",
            "\n",
            "    accuracy                           0.97      8567\n",
            "   macro avg       0.97      0.97      0.97      8567\n",
            "weighted avg       0.97      0.97      0.97      8567\n",
            "\n"
          ]
        }
      ]
    },
    {
      "cell_type": "code",
      "metadata": {
        "colab": {
          "base_uri": "https://localhost:8080/"
        },
        "id": "T7NuNmQVShll",
        "outputId": "b42005ac-13c6-4fa0-b846-18d50673a808"
      },
      "source": [
        "# !pip install tabletext\n",
        "from tabletext import to_text\n",
        "\n",
        "conf_matrix = metrics.confusion_matrix(y_test, y_pred)\n",
        "C = conf_matrix / conf_matrix.astype(np.float).sum(axis=0)\n",
        "conf_matrix = [['TP: %0.2f%%'%C[0,0], 'FN: %0.2f%%'%C[1,0]],\n",
        "               ['FP: %0.2f%%'%C[0,1], 'TN: %0.2f%%'%C[1,1]]]\n",
        "\n",
        "print(to_text(conf_matrix))"
      ],
      "execution_count": null,
      "outputs": [
        {
          "output_type": "stream",
          "name": "stdout",
          "text": [
            "┌───────────┬───────────┐\n",
            "│ TP: 0.98% │ FN: 0.02% │\n",
            "├───────────┼───────────┤\n",
            "│ FP: 0.03% │ TN: 0.97% │\n",
            "└───────────┴───────────┘\n"
          ]
        }
      ]
    },
    {
      "cell_type": "markdown",
      "metadata": {
        "id": "EGfA1wHd5Sek"
      },
      "source": [
        "Como se ve, las métricas utilizando el atributo `text` son muy buenas, voy a probar ahora utilizando sólo los títulos"
      ]
    },
    {
      "cell_type": "code",
      "metadata": {
        "id": "q2v_LwCa6_WZ"
      },
      "source": [
        "text_clf = Pipeline([\n",
        "    ('tfidf_vect', TfidfVectorizer(ngram_range=(1,1))),\n",
        "    ('clf', SGDClassifier(loss='hinge', penalty='l2',\n",
        "                          random_state=42, alpha=1e-3,\n",
        "                          max_iter=5, tol=None))\n",
        "])\n",
        "\n",
        "text_clf.fit(X_train.title, y_train)\n",
        "y_pred = text_clf.predict(X_test.title)"
      ],
      "execution_count": null,
      "outputs": []
    },
    {
      "cell_type": "code",
      "metadata": {
        "colab": {
          "base_uri": "https://localhost:8080/"
        },
        "id": "trIwoqzz6_Wb",
        "outputId": "1957d71e-fb46-4ce0-cd3c-7d4d7f175a53"
      },
      "source": [
        "print(metrics.classification_report(y_test, y_pred))"
      ],
      "execution_count": null,
      "outputs": [
        {
          "output_type": "stream",
          "name": "stdout",
          "text": [
            "              precision    recall  f1-score   support\n",
            "\n",
            "        fake       0.96      0.86      0.91      4282\n",
            "        true       0.88      0.97      0.92      4285\n",
            "\n",
            "    accuracy                           0.91      8567\n",
            "   macro avg       0.92      0.91      0.91      8567\n",
            "weighted avg       0.92      0.91      0.91      8567\n",
            "\n"
          ]
        }
      ]
    },
    {
      "cell_type": "code",
      "metadata": {
        "colab": {
          "base_uri": "https://localhost:8080/"
        },
        "id": "dDBudIjh6_Wb",
        "outputId": "7922d889-1663-4830-ea35-fea13302372a"
      },
      "source": [
        "conf_matrix = metrics.confusion_matrix(y_test, y_pred)\n",
        "C = conf_matrix / conf_matrix.astype(np.float).sum(axis=0)\n",
        "conf_matrix = [['TP: %0.2f%%'%C[0,0], 'FN: %0.2f%%'%C[1,0]],\n",
        "               ['FP: %0.2f%%'%C[0,1], 'TN: %0.2f%%'%C[1,1]]]\n",
        "\n",
        "print(to_text(conf_matrix))"
      ],
      "execution_count": null,
      "outputs": [
        {
          "output_type": "stream",
          "name": "stdout",
          "text": [
            "┌───────────┬───────────┐\n",
            "│ TP: 0.96% │ FN: 0.04% │\n",
            "├───────────┼───────────┤\n",
            "│ FP: 0.12% │ TN: 0.88% │\n",
            "└───────────┴───────────┘\n"
          ]
        }
      ]
    },
    {
      "cell_type": "markdown",
      "metadata": {
        "id": "4FOKWccr7Ud6"
      },
      "source": [
        "Analizando sólo los títulos la precisión del modelo sigue siendo muy buena, con la ventaja de que es mucho más económico en cuanto a tiempo de entrenamiento"
      ]
    }
  ]
}